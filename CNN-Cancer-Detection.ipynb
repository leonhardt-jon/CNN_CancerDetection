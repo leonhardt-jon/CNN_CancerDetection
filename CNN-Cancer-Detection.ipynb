{
  "cells": [
    {
      "attachments": {},
      "cell_type": "markdown",
      "metadata": {
        "id": "Quf9Sc0wpt0g"
      },
      "source": [
        "# Introduction\n",
        "In this notebook we will attempt to identify cancer in small image patches. We have a large dataset of 96X96 images that are labeled with 0: Benign or 1: Cancerous. We will use Convolutional Neural Networks (CNNs) to model the dataset for binary classification.\n",
        "\n",
        "While iterating on our model design, we will stick to using a subset of the training data. This is due to time and resource constraints. "
      ]
    },
    {
      "cell_type": "code",
      "execution_count": null,
      "metadata": {},
      "outputs": [],
      "source": [
        "%pip install numpy pandas PIL torch torchvision matplotlib"
      ]
    },
    {
      "cell_type": "code",
      "execution_count": 1,
      "metadata": {
        "_cell_guid": "b1076dfc-b9ad-4769-8c92-a6c4dae69d19",
        "_uuid": "8f2839f25d086af736a60e9eeb907d3b93b6e0e5",
        "execution": {
          "iopub.execute_input": "2024-07-26T10:41:14.550241Z",
          "iopub.status.busy": "2024-07-26T10:41:14.549832Z",
          "iopub.status.idle": "2024-07-26T10:41:14.981924Z",
          "shell.execute_reply": "2024-07-26T10:41:14.9811Z",
          "shell.execute_reply.started": "2024-07-26T10:41:14.550204Z"
        },
        "id": "Idkqddqw-Bhb",
        "trusted": true
      },
      "outputs": [],
      "source": [
        "# This Python 3 environment comes with many helpful analytics libraries installed\n",
        "# It is defined by the kaggle/python Docker image: https://github.com/kaggle/docker-python\n",
        "# For example, here's several helpful packages to load\n",
        "\n",
        "import numpy as np # linear algebra\n",
        "import pandas as pd # data processing, CSV file I/O (e.g. pd.read_csv)\n",
        "from sklearn.model_selection import train_test_split\n",
        "\n",
        "from tqdm import tqdm\n",
        "# Input data files are available in the read-only \"../input/\" directory\n",
        "# For example, running this (by clicking run or pressing Shift+Enter) will list all files under the input directory\n",
        "\n",
        "import os\n",
        "# for dirname, _, filenames in os.walk('/kaggle/input'):\n",
        "#     for filename in filenames:\n",
        "#         print(os.path.join(dirname, filename))\n",
        "\n",
        "# You can write up to 20GB to the current directory (/kaggle/working/) that gets preserved as output when you create a version using \"Save & Run All\"\n",
        "# You can also write temporary files to /kaggle/temp/, but they won't be saved outside of the current session"
      ]
    },
    {
      "cell_type": "code",
      "execution_count": 2,
      "metadata": {
        "colab": {
          "base_uri": "https://localhost:8080/",
          "height": 424
        },
        "execution": {
          "iopub.execute_input": "2024-07-26T11:24:48.61945Z",
          "iopub.status.busy": "2024-07-26T11:24:48.619068Z",
          "iopub.status.idle": "2024-07-26T11:24:48.868899Z",
          "shell.execute_reply": "2024-07-26T11:24:48.867916Z",
          "shell.execute_reply.started": "2024-07-26T11:24:48.619423Z"
        },
        "id": "kjCxXU35-Bhc",
        "outputId": "e4982e1e-4ce9-4e95-a734-2a96e79ca9d1",
        "trusted": true
      },
      "outputs": [
        {
          "data": {
            "text/html": [
              "<div>\n",
              "<style scoped>\n",
              "    .dataframe tbody tr th:only-of-type {\n",
              "        vertical-align: middle;\n",
              "    }\n",
              "\n",
              "    .dataframe tbody tr th {\n",
              "        vertical-align: top;\n",
              "    }\n",
              "\n",
              "    .dataframe thead th {\n",
              "        text-align: right;\n",
              "    }\n",
              "</style>\n",
              "<table border=\"1\" class=\"dataframe\">\n",
              "  <thead>\n",
              "    <tr style=\"text-align: right;\">\n",
              "      <th></th>\n",
              "      <th>id</th>\n",
              "      <th>label</th>\n",
              "    </tr>\n",
              "  </thead>\n",
              "  <tbody>\n",
              "    <tr>\n",
              "      <th>0</th>\n",
              "      <td>f38a6374c348f90b587e046aac6079959adf3835</td>\n",
              "      <td>0</td>\n",
              "    </tr>\n",
              "    <tr>\n",
              "      <th>1</th>\n",
              "      <td>c18f2d887b7ae4f6742ee445113fa1aef383ed77</td>\n",
              "      <td>1</td>\n",
              "    </tr>\n",
              "    <tr>\n",
              "      <th>2</th>\n",
              "      <td>755db6279dae599ebb4d39a9123cce439965282d</td>\n",
              "      <td>0</td>\n",
              "    </tr>\n",
              "    <tr>\n",
              "      <th>3</th>\n",
              "      <td>bc3f0c64fb968ff4a8bd33af6971ecae77c75e08</td>\n",
              "      <td>0</td>\n",
              "    </tr>\n",
              "    <tr>\n",
              "      <th>4</th>\n",
              "      <td>068aba587a4950175d04c680d38943fd488d6a9d</td>\n",
              "      <td>0</td>\n",
              "    </tr>\n",
              "    <tr>\n",
              "      <th>...</th>\n",
              "      <td>...</td>\n",
              "      <td>...</td>\n",
              "    </tr>\n",
              "    <tr>\n",
              "      <th>220020</th>\n",
              "      <td>53e9aa9d46e720bf3c6a7528d1fca3ba6e2e49f6</td>\n",
              "      <td>0</td>\n",
              "    </tr>\n",
              "    <tr>\n",
              "      <th>220021</th>\n",
              "      <td>d4b854fe38b07fe2831ad73892b3cec877689576</td>\n",
              "      <td>1</td>\n",
              "    </tr>\n",
              "    <tr>\n",
              "      <th>220022</th>\n",
              "      <td>3d046cead1a2a5cbe00b2b4847cfb7ba7cf5fe75</td>\n",
              "      <td>0</td>\n",
              "    </tr>\n",
              "    <tr>\n",
              "      <th>220023</th>\n",
              "      <td>f129691c13433f66e1e0671ff1fe80944816f5a2</td>\n",
              "      <td>0</td>\n",
              "    </tr>\n",
              "    <tr>\n",
              "      <th>220024</th>\n",
              "      <td>a81f84895ddcd522302ddf34be02eb1b3e5af1cb</td>\n",
              "      <td>1</td>\n",
              "    </tr>\n",
              "  </tbody>\n",
              "</table>\n",
              "<p>220025 rows × 2 columns</p>\n",
              "</div>"
            ],
            "text/plain": [
              "                                              id  label\n",
              "0       f38a6374c348f90b587e046aac6079959adf3835      0\n",
              "1       c18f2d887b7ae4f6742ee445113fa1aef383ed77      1\n",
              "2       755db6279dae599ebb4d39a9123cce439965282d      0\n",
              "3       bc3f0c64fb968ff4a8bd33af6971ecae77c75e08      0\n",
              "4       068aba587a4950175d04c680d38943fd488d6a9d      0\n",
              "...                                          ...    ...\n",
              "220020  53e9aa9d46e720bf3c6a7528d1fca3ba6e2e49f6      0\n",
              "220021  d4b854fe38b07fe2831ad73892b3cec877689576      1\n",
              "220022  3d046cead1a2a5cbe00b2b4847cfb7ba7cf5fe75      0\n",
              "220023  f129691c13433f66e1e0671ff1fe80944816f5a2      0\n",
              "220024  a81f84895ddcd522302ddf34be02eb1b3e5af1cb      1\n",
              "\n",
              "[220025 rows x 2 columns]"
            ]
          },
          "execution_count": 2,
          "metadata": {},
          "output_type": "execute_result"
        }
      ],
      "source": [
        "from pathlib import Path\n",
        "workspace = Path.cwd()\n",
        "df = pd.read_csv(workspace / 'data' / 'train_labels.csv')\n",
        "df"
      ]
    },
    {
      "cell_type": "code",
      "execution_count": 3,
      "metadata": {},
      "outputs": [],
      "source": [
        "small_df = df.iloc[:5000]"
      ]
    },
    {
      "attachments": {},
      "cell_type": "markdown",
      "metadata": {
        "id": "AU7-BVoT-Bhc"
      },
      "source": [
        "# EDA\n",
        "\n",
        "For the EDA we will look at:\n",
        "1. Are the images consistant, in subject matter and size/shape \n",
        "2. How balanced is our dataset with respect to labeling"
      ]
    },
    {
      "cell_type": "code",
      "execution_count": 4,
      "metadata": {
        "colab": {
          "base_uri": "https://localhost:8080/"
        },
        "execution": {
          "iopub.execute_input": "2024-07-26T11:24:51.452945Z",
          "iopub.status.busy": "2024-07-26T11:24:51.452243Z",
          "iopub.status.idle": "2024-07-26T11:24:51.459222Z",
          "shell.execute_reply": "2024-07-26T11:24:51.458198Z",
          "shell.execute_reply.started": "2024-07-26T11:24:51.452909Z"
        },
        "id": "5TBZTlAk-Bhd",
        "outputId": "58a169ca-8413-440c-8be2-ad45d22d5d73",
        "trusted": true
      },
      "outputs": [
        {
          "data": {
            "text/plain": [
              "PosixPath('/home/jon/code/ms-ds/deeplearning/week_3/data/train')"
            ]
          },
          "execution_count": 4,
          "metadata": {},
          "output_type": "execute_result"
        }
      ],
      "source": [
        "train_images = workspace / 'data' / 'train' \n",
        "train_images"
      ]
    },
    {
      "cell_type": "code",
      "execution_count": 5,
      "metadata": {
        "execution": {
          "iopub.execute_input": "2024-07-26T11:24:52.558412Z",
          "iopub.status.busy": "2024-07-26T11:24:52.557993Z",
          "iopub.status.idle": "2024-07-26T11:24:53.969432Z",
          "shell.execute_reply": "2024-07-26T11:24:53.968506Z",
          "shell.execute_reply.started": "2024-07-26T11:24:52.558381Z"
        },
        "id": "n27pZ7h5-Bhe",
        "trusted": true
      },
      "outputs": [],
      "source": [
        "train_images = list(train_images.glob(\"*.tif\"))\n"
      ]
    },
    {
      "cell_type": "markdown",
      "metadata": {
        "id": "X9t4GVnf-Bhe"
      },
      "source": [
        "Building an index so I can reference file location during training. Don't want to hold all 220025 images in memory."
      ]
    },
    {
      "cell_type": "code",
      "execution_count": 6,
      "metadata": {
        "colab": {
          "base_uri": "https://localhost:8080/"
        },
        "execution": {
          "iopub.execute_input": "2024-07-26T11:24:56.264084Z",
          "iopub.status.busy": "2024-07-26T11:24:56.263695Z",
          "iopub.status.idle": "2024-07-26T11:26:29.5538Z",
          "shell.execute_reply": "2024-07-26T11:26:29.55281Z",
          "shell.execute_reply.started": "2024-07-26T11:24:56.26403Z"
        },
        "id": "f_UZMfmr-Bhf",
        "outputId": "ac78bac7-36aa-441f-f39f-e74108b9e85a",
        "trusted": true
      },
      "outputs": [
        {
          "data": {
            "text/plain": [
              "(4000, 1000)"
            ]
          },
          "execution_count": 6,
          "metadata": {},
          "output_type": "execute_result"
        }
      ],
      "source": [
        "train, val = train_test_split(small_df, stratify=small_df.label, test_size=0.2)\n",
        "len(train), len(val)"
      ]
    },
    {
      "cell_type": "code",
      "execution_count": 7,
      "metadata": {
        "colab": {
          "base_uri": "https://localhost:8080/",
          "height": 1000
        },
        "execution": {
          "iopub.execute_input": "2024-07-26T11:26:29.555742Z",
          "iopub.status.busy": "2024-07-26T11:26:29.55542Z",
          "iopub.status.idle": "2024-07-26T11:26:29.622118Z",
          "shell.execute_reply": "2024-07-26T11:26:29.621182Z",
          "shell.execute_reply.started": "2024-07-26T11:26:29.555715Z"
        },
        "id": "KuVBwPyz-Bhf",
        "outputId": "d9bd56a4-db72-486e-de5c-566d2a934f84",
        "trusted": true
      },
      "outputs": [
        {
          "data": {
            "image/jpeg": "[encoded data removed]",
            "image/png": "[encoded data removed]",
            "text/plain": [
              "<PIL.TiffImagePlugin.TiffImageFile image mode=RGB size=96x96>"
            ]
          },
          "metadata": {},
          "output_type": "display_data"
        },
        {
          "data": {
            "image/jpeg": "[encoded data removed]",
            "image/png": "[encoded data removed]",
            "text/plain": [
              "<PIL.TiffImagePlugin.TiffImageFile image mode=RGB size=96x96>"
            ]
          },
          "metadata": {},
          "output_type": "display_data"
        },
        {
          "data": {
            "image/jpeg": "[encoded data removed]",
            "image/png": "[encoded data removed]",
            "text/plain": [
              "<PIL.TiffImagePlugin.TiffImageFile image mode=RGB size=96x96>"
            ]
          },
          "metadata": {},
          "output_type": "display_data"
        },
        {
          "data": {
            "image/jpeg": "[encoded data removed]",
            "image/png": "[encoded data removed]",
            "text/plain": [
              "<PIL.TiffImagePlugin.TiffImageFile image mode=RGB size=96x96>"
            ]
          },
          "metadata": {},
          "output_type": "display_data"
        },
        {
          "data": {
            "image/jpeg": "[encoded data removed]",
            "image/png": "[encoded data removed]",
            "text/plain": [
              "<PIL.TiffImagePlugin.TiffImageFile image mode=RGB size=96x96>"
            ]
          },
          "metadata": {},
          "output_type": "display_data"
        },
        {
          "data": {
            "image/jpeg": "[encoded data removed]",
            "image/png": "[encoded data removed]",
            "text/plain": [
              "<PIL.TiffImagePlugin.TiffImageFile image mode=RGB size=96x96>"
            ]
          },
          "metadata": {},
          "output_type": "display_data"
        },
        {
          "data": {
            "image/jpeg": "[encoded data removed]",
            "image/png": "[encoded data removed]",
            "text/plain": [
              "<PIL.TiffImagePlugin.TiffImageFile image mode=RGB size=96x96>"
            ]
          },
          "metadata": {},
          "output_type": "display_data"
        },
        {
          "data": {
            "image/jpeg": "[encoded data removed]",
            "image/png": "[encoded data removed]",
            "text/plain": [
              "<PIL.TiffImagePlugin.TiffImageFile image mode=RGB size=96x96>"
            ]
          },
          "metadata": {},
          "output_type": "display_data"
        },
        {
          "data": {
            "image/jpeg": "[encoded data removed]",
            "image/png": "[encoded data removed]",
            "text/plain": [
              "<PIL.TiffImagePlugin.TiffImageFile image mode=RGB size=96x96>"
            ]
          },
          "metadata": {},
          "output_type": "display_data"
        },
        {
          "name": "stdout",
          "output_type": "stream",
          "text": [
            "(96, 96, 3)\n",
            "(96, 96, 3)\n",
            "(96, 96, 3)\n",
            "(96, 96, 3)\n",
            "(96, 96, 3)\n",
            "(96, 96, 3)\n",
            "(96, 96, 3)\n",
            "(96, 96, 3)\n",
            "(96, 96, 3)\n"
          ]
        }
      ],
      "source": [
        "from PIL import Image\n",
        "display_images = []\n",
        "for i in range(9):\n",
        "    display_images.append(Image.open(train_images[i]))\n",
        "display(*display_images)\n",
        "for di in display_images:\n",
        "    arr = np.array(di)\n",
        "    print(arr.shape)"
      ]
    },
    {
      "cell_type": "markdown",
      "metadata": {
        "id": "b9R2Ykr0-Bhg"
      },
      "source": [
        "Looks like the images are all a consistant 96X96X3. Now that we have examined some of our labels, lets take a look at the outputs"
      ]
    },
    {
      "cell_type": "code",
      "execution_count": 8,
      "metadata": {
        "execution": {
          "iopub.execute_input": "2024-07-26T11:26:29.623737Z",
          "iopub.status.busy": "2024-07-26T11:26:29.62343Z",
          "iopub.status.idle": "2024-07-26T11:26:29.64199Z",
          "shell.execute_reply": "2024-07-26T11:26:29.641029Z",
          "shell.execute_reply.started": "2024-07-26T11:26:29.623705Z"
        },
        "id": "6u22N_4u-Bhh",
        "trusted": true
      },
      "outputs": [],
      "source": [
        "df = df.dropna()"
      ]
    },
    {
      "cell_type": "code",
      "execution_count": 9,
      "metadata": {
        "colab": {
          "base_uri": "https://localhost:8080/"
        },
        "execution": {
          "iopub.execute_input": "2024-07-26T11:26:29.645424Z",
          "iopub.status.busy": "2024-07-26T11:26:29.644734Z",
          "iopub.status.idle": "2024-07-26T11:26:29.660432Z",
          "shell.execute_reply": "2024-07-26T11:26:29.659392Z",
          "shell.execute_reply.started": "2024-07-26T11:26:29.64539Z"
        },
        "id": "r3bYPCfD-Bhh",
        "outputId": "eac4965a-3835-42f2-86f9-4250e631fc81",
        "trusted": true
      },
      "outputs": [
        {
          "name": "stdout",
          "output_type": "stream",
          "text": [
            "<class 'pandas.core.frame.DataFrame'>\n",
            "RangeIndex: 220025 entries, 0 to 220024\n",
            "Data columns (total 2 columns):\n",
            " #   Column  Non-Null Count   Dtype \n",
            "---  ------  --------------   ----- \n",
            " 0   id      220025 non-null  object\n",
            " 1   label   220025 non-null  int64 \n",
            "dtypes: int64(1), object(1)\n",
            "memory usage: 3.4+ MB\n"
          ]
        }
      ],
      "source": [
        "df.info()"
      ]
    },
    {
      "cell_type": "code",
      "execution_count": 10,
      "metadata": {
        "colab": {
          "base_uri": "https://localhost:8080/",
          "height": 300
        },
        "execution": {
          "iopub.execute_input": "2024-07-26T11:26:29.661967Z",
          "iopub.status.busy": "2024-07-26T11:26:29.661654Z",
          "iopub.status.idle": "2024-07-26T11:26:29.683949Z",
          "shell.execute_reply": "2024-07-26T11:26:29.682973Z",
          "shell.execute_reply.started": "2024-07-26T11:26:29.66194Z"
        },
        "id": "Iww_DSJM-Bhi",
        "outputId": "89b4697a-7bd0-4a4e-b1a3-fb0e9beff347",
        "trusted": true
      },
      "outputs": [
        {
          "data": {
            "text/html": [
              "<div>\n",
              "<style scoped>\n",
              "    .dataframe tbody tr th:only-of-type {\n",
              "        vertical-align: middle;\n",
              "    }\n",
              "\n",
              "    .dataframe tbody tr th {\n",
              "        vertical-align: top;\n",
              "    }\n",
              "\n",
              "    .dataframe thead th {\n",
              "        text-align: right;\n",
              "    }\n",
              "</style>\n",
              "<table border=\"1\" class=\"dataframe\">\n",
              "  <thead>\n",
              "    <tr style=\"text-align: right;\">\n",
              "      <th></th>\n",
              "      <th>label</th>\n",
              "    </tr>\n",
              "  </thead>\n",
              "  <tbody>\n",
              "    <tr>\n",
              "      <th>count</th>\n",
              "      <td>220025.000000</td>\n",
              "    </tr>\n",
              "    <tr>\n",
              "      <th>mean</th>\n",
              "      <td>0.405031</td>\n",
              "    </tr>\n",
              "    <tr>\n",
              "      <th>std</th>\n",
              "      <td>0.490899</td>\n",
              "    </tr>\n",
              "    <tr>\n",
              "      <th>min</th>\n",
              "      <td>0.000000</td>\n",
              "    </tr>\n",
              "    <tr>\n",
              "      <th>25%</th>\n",
              "      <td>0.000000</td>\n",
              "    </tr>\n",
              "    <tr>\n",
              "      <th>50%</th>\n",
              "      <td>0.000000</td>\n",
              "    </tr>\n",
              "    <tr>\n",
              "      <th>75%</th>\n",
              "      <td>1.000000</td>\n",
              "    </tr>\n",
              "    <tr>\n",
              "      <th>max</th>\n",
              "      <td>1.000000</td>\n",
              "    </tr>\n",
              "  </tbody>\n",
              "</table>\n",
              "</div>"
            ],
            "text/plain": [
              "               label\n",
              "count  220025.000000\n",
              "mean        0.405031\n",
              "std         0.490899\n",
              "min         0.000000\n",
              "25%         0.000000\n",
              "50%         0.000000\n",
              "75%         1.000000\n",
              "max         1.000000"
            ]
          },
          "execution_count": 10,
          "metadata": {},
          "output_type": "execute_result"
        }
      ],
      "source": [
        "df.describe()"
      ]
    },
    {
      "cell_type": "code",
      "execution_count": 11,
      "metadata": {
        "colab": {
          "base_uri": "https://localhost:8080/",
          "height": 461
        },
        "execution": {
          "iopub.execute_input": "2024-07-26T11:26:29.685475Z",
          "iopub.status.busy": "2024-07-26T11:26:29.68517Z",
          "iopub.status.idle": "2024-07-26T11:26:29.889672Z",
          "shell.execute_reply": "2024-07-26T11:26:29.888696Z",
          "shell.execute_reply.started": "2024-07-26T11:26:29.68545Z"
        },
        "id": "ECjf67PG-Bhi",
        "outputId": "6aa7d9bf-a452-475b-cb66-c87e9b43eb17",
        "trusted": true
      },
      "outputs": [
        {
          "data": {
            "text/plain": [
              "<Axes: xlabel='label'>"
            ]
          },
          "execution_count": 11,
          "metadata": {},
          "output_type": "execute_result"
        },
        {
          "data": {
            "image/png": "[encoded data removed]",
            "text/plain": [
              "<Figure size 640x480 with 1 Axes>"
            ]
          },
          "metadata": {},
          "output_type": "display_data"
        }
      ],
      "source": [
        "small_df['label'].value_counts().plot(kind='bar')"
      ]
    },
    {
      "cell_type": "markdown",
      "metadata": {
        "id": "YlhvJ0yi-Bhi"
      },
      "source": [
        "Not horribly unbalanced.Going to just take random samples from each"
      ]
    },
    {
      "cell_type": "code",
      "execution_count": null,
      "metadata": {},
      "outputs": [],
      "source": [
        "%pip install torchvision"
      ]
    },
    {
      "cell_type": "code",
      "execution_count": 12,
      "metadata": {
        "execution": {
          "iopub.execute_input": "2024-07-26T11:26:29.89099Z",
          "iopub.status.busy": "2024-07-26T11:26:29.890711Z",
          "iopub.status.idle": "2024-07-26T11:26:29.898152Z",
          "shell.execute_reply": "2024-07-26T11:26:29.897129Z",
          "shell.execute_reply.started": "2024-07-26T11:26:29.890967Z"
        },
        "id": "U8zs-3Pv-Bhj",
        "trusted": true
      },
      "outputs": [
        {
          "name": "stderr",
          "output_type": "stream",
          "text": [
            "/home/jon/.local/lib/python3.10/site-packages/tqdm/auto.py:21: TqdmWarning: IProgress not found. Please update jupyter and ipywidgets. See https://ipywidgets.readthedocs.io/en/stable/user_install.html\n",
            "  from .autonotebook import tqdm as notebook_tqdm\n"
          ]
        }
      ],
      "source": [
        "import torch\n",
        "from torch.utils.data import Dataset, DataLoader\n",
        "from torchvision import transforms\n",
        "\n",
        "class ImageDataset(Dataset):\n",
        "    def __init__(self, df_data, data_dir, transform):\n",
        "        super().__init__()\n",
        "        self.df = df_data.values\n",
        "        self.data_dir = data_dir\n",
        "        self.transform = transform\n",
        "\n",
        "    def __len__(self):\n",
        "        return len(self.df)\n",
        "    \n",
        "    def __getitem__(self, index):\n",
        "        img_name,label = self.df[index]\n",
        "        img_path = os.path.join(self.data_dir, img_name+'.tif')\n",
        "        image = Image.open(img_path)\n",
        "        image = self.transform(image)\n",
        "        return image, label\n"
      ]
    },
    {
      "cell_type": "code",
      "execution_count": null,
      "metadata": {
        "execution": {
          "iopub.execute_input": "2024-07-26T11:26:29.899926Z",
          "iopub.status.busy": "2024-07-26T11:26:29.899541Z",
          "iopub.status.idle": "2024-07-26T11:26:29.909619Z",
          "shell.execute_reply": "2024-07-26T11:26:29.908701Z",
          "shell.execute_reply.started": "2024-07-26T11:26:29.899889Z"
        },
        "id": "4FOpp22--Bhj",
        "trusted": true
      },
      "outputs": [],
      "source": []
    },
    {
      "attachments": {},
      "cell_type": "markdown",
      "metadata": {
        "execution": {
          "iopub.execute_input": "2024-07-26T11:26:29.911872Z",
          "iopub.status.busy": "2024-07-26T11:26:29.911195Z",
          "iopub.status.idle": "2024-07-26T11:26:29.922772Z",
          "shell.execute_reply": "2024-07-26T11:26:29.921924Z",
          "shell.execute_reply.started": "2024-07-26T11:26:29.911834Z"
        },
        "id": "ago3IQuc-Bhk",
        "trusted": true
      },
      "source": [
        "# Synthetic data generation \n",
        "Here we will make image loaders that will generate random transformation to our training data. This effectively is creating synthetic training samples, which will provide our model more training examples"
      ]
    },
    {
      "cell_type": "code",
      "execution_count": 13,
      "metadata": {
        "id": "1x80Zyt6QMkv"
      },
      "outputs": [],
      "source": [
        "import torchvision.transforms as transforms\n",
        "tr_transf = transforms.Compose([transforms.Pad(64, padding_mode='reflect'),\n",
        "                                  transforms.RandomHorizontalFlip(), \n",
        "                                  transforms.RandomVerticalFlip(),\n",
        "                                  transforms.RandomRotation(20), \n",
        "                                  transforms.ToTensor(),\n",
        "                                  transforms.Normalize(mean=[0.5, 0.5, 0.5],std=[0.5, 0.5, 0.5])])\n",
        "\n",
        "data_transformer = transforms.Compose([transforms.Pad(64, padding_mode='reflect'),\n",
        "                                  transforms.ToTensor(),\n",
        "                                  transforms.Normalize(mean=[0.5, 0.5, 0.5],std=[0.5, 0.5, 0.5])])"
      ]
    },
    {
      "cell_type": "code",
      "execution_count": 14,
      "metadata": {
        "execution": {
          "iopub.execute_input": "2024-07-26T11:26:29.926167Z",
          "iopub.status.busy": "2024-07-26T11:26:29.925738Z",
          "iopub.status.idle": "2024-07-26T11:26:29.932981Z",
          "shell.execute_reply": "2024-07-26T11:26:29.93209Z",
          "shell.execute_reply.started": "2024-07-26T11:26:29.926139Z"
        },
        "id": "csqp84aJ-Bhk",
        "trusted": true
      },
      "outputs": [],
      "source": [
        "small_train_dataset = ImageDataset(train, workspace / 'data' / 'train',  tr_transf)\n",
        "small_test_dataset = ImageDataset(val, workspace / 'data' / 'train', data_transformer)\n",
        "batch_size = 64\n",
        "train_loader = DataLoader(small_train_dataset, batch_size=batch_size, shuffle=True)\n",
        "test_loader = DataLoader(small_test_dataset, batch_size=batch_size, shuffle=True)"
      ]
    },
    {
      "attachments": {},
      "cell_type": "markdown",
      "metadata": {
        "id": "jDMnhkwaoJXX"
      },
      "source": [
        "# Architecture 1. Base ConvNet\n",
        "\n",
        "This is a shallow CNN that utilizes a sequential network comprised of Conv2d and ReLU activations. Layers contain a batch normalization. The convolution layers are ran first, then linear layers are used to perform a classification. "
      ]
    },
    {
      "cell_type": "code",
      "execution_count": 15,
      "metadata": {
        "execution": {
          "iopub.execute_input": "2024-07-26T11:26:29.934423Z",
          "iopub.status.busy": "2024-07-26T11:26:29.934141Z",
          "iopub.status.idle": "2024-07-26T11:26:29.943849Z",
          "shell.execute_reply": "2024-07-26T11:26:29.942894Z",
          "shell.execute_reply.started": "2024-07-26T11:26:29.934398Z"
        },
        "id": "9141hi_T-Bhk",
        "trusted": true
      },
      "outputs": [],
      "source": [
        "\n",
        "import torch.nn as nn\n",
        "import torch.nn.functional as F\n",
        "\n",
        "class ConvNet(nn.Module):\n",
        "    def __init__(self, num_classes=2, kernel_size=3, stride=1):\n",
        "        super(ConvNet, self).__init__()\n",
        "        self.features = nn.Sequential(\n",
        "            nn.Conv2d(3, 46, kernel_size=kernel_size, stride=stride, padding=1),\n",
        "            nn.BatchNorm2d(46),\n",
        "            nn.ReLU(inplace=True),\n",
        "            nn.Conv2d(46, 64, kernel_size=kernel_size, stride=stride, padding=1),\n",
        "            nn.BatchNorm2d(64),\n",
        "            nn.ReLU(inplace=True),\n",
        "            nn.MaxPool2d(kernel_size=2, stride=2)\n",
        "        )\n",
        "\n",
        "        self.fc2 = nn.Linear(128, num_classes)\n",
        "\n",
        "    def forward(self, x):\n",
        "        x = self.features(x)\n",
        "\n",
        "        self.fc1 = nn.Linear(x.shape[1] * x.shape[2] * x.shape[3], 128).to(device)\n",
        "\n",
        "        x = x.view(x.size(0), -1)\n",
        "        x = F.relu(self.fc1(x))\n",
        "        x = self.fc2(x)\n",
        "\n",
        "        return x \n",
        "\n",
        "\n"
      ]
    },
    {
      "attachments": {},
      "cell_type": "markdown",
      "metadata": {
        "id": "ar3Gd55poOrq"
      },
      "source": [
        "# Architecture 2. Deep Convnet\n",
        "\n",
        "This is a deep CNN that increases the number of convolutional layers compared to the base CNN model.  "
      ]
    },
    {
      "cell_type": "code",
      "execution_count": 16,
      "metadata": {
        "id": "72QvqpIfjx71"
      },
      "outputs": [],
      "source": [
        "class ConvNetDeep(nn.Module):\n",
        "    def __init__(self, num_classes=2, kernel_size=3, stride=1):\n",
        "        super(ConvNetDeep, self).__init__()\n",
        "        self.features = nn.Sequential(\n",
        "            # Conv1\n",
        "            nn.Conv2d(3, 46, kernel_size=kernel_size, stride=stride, padding=1),\n",
        "            nn.BatchNorm2d(46),\n",
        "            nn.ReLU(inplace=True),\n",
        "            # Conv2\n",
        "            nn.Conv2d(46, 64, kernel_size=kernel_size, stride=stride, padding=1),\n",
        "            nn.BatchNorm2d(64),\n",
        "            nn.ReLU(inplace=True),\n",
        "            nn.MaxPool2d(kernel_size=2, stride=2),\n",
        "            # Conv 3\n",
        "            nn.Conv2d(64, 128, kernel_size=kernel_size, stride=stride, padding=1),\n",
        "            nn.BatchNorm2d(128),\n",
        "            nn.ReLU(inplace=True),\n",
        "            nn.MaxPool2d(kernel_size=2, stride=2),\n",
        "            # Conv 4\n",
        "            nn.Conv2d(128, 256, kernel_size=kernel_size, stride=stride, padding=1),\n",
        "            nn.BatchNorm2d(256),\n",
        "            nn.ReLU(inplace=True),\n",
        "            nn.MaxPool2d(kernel_size=2, stride=2),\n",
        "            # Conv 5\n",
        "            nn.Conv2d(256, 512, kernel_size=kernel_size, stride=stride, padding=1),\n",
        "            nn.BatchNorm2d(512),\n",
        "            nn.ReLU(inplace=True),\n",
        "            nn.MaxPool2d(kernel_size=2, stride=2),\n",
        "        )\n",
        "\n",
        "        self.fc2 = nn.Linear(128, num_classes)\n",
        "\n",
        "    def forward(self, x):\n",
        "        x = self.features(x)\n",
        "\n",
        "        self.fc1 = nn.Linear(x.shape[1] * x.shape[2] * x.shape[3], 128).to(device)\n",
        "\n",
        "        x = x.view(x.size(0), -1)\n",
        "        x = F.relu(self.fc1(x))\n",
        "        x = self.fc2(x)\n",
        "\n",
        "        return x"
      ]
    },
    {
      "cell_type": "code",
      "execution_count": 17,
      "metadata": {
        "execution": {
          "iopub.execute_input": "2024-07-26T11:26:29.946326Z",
          "iopub.status.busy": "2024-07-26T11:26:29.94486Z",
          "iopub.status.idle": "2024-07-26T11:26:29.959581Z",
          "shell.execute_reply": "2024-07-26T11:26:29.958589Z",
          "shell.execute_reply.started": "2024-07-26T11:26:29.946297Z"
        },
        "id": "SIk0CEkF-Bhk",
        "trusted": true
      },
      "outputs": [],
      "source": [
        "convnet = ConvNet()"
      ]
    },
    {
      "cell_type": "code",
      "execution_count": null,
      "metadata": {
        "colab": {
          "base_uri": "https://localhost:8080/"
        },
        "execution": {
          "iopub.execute_input": "2024-07-26T11:26:29.96113Z",
          "iopub.status.busy": "2024-07-26T11:26:29.960775Z",
          "iopub.status.idle": "2024-07-26T11:26:29.982426Z",
          "shell.execute_reply": "2024-07-26T11:26:29.981498Z",
          "shell.execute_reply.started": "2024-07-26T11:26:29.961098Z"
        },
        "id": "Pim8ewJI-Bhl",
        "outputId": "4a337e59-b971-4384-e2dc-16d391aeabe9",
        "trusted": true
      },
      "outputs": [],
      "source": []
    },
    {
      "cell_type": "code",
      "execution_count": null,
      "metadata": {
        "id": "Cdu__Fq7-Bhl",
        "trusted": true
      },
      "outputs": [],
      "source": []
    },
    {
      "cell_type": "code",
      "execution_count": 18,
      "metadata": {
        "colab": {
          "base_uri": "https://localhost:8080/"
        },
        "execution": {
          "iopub.execute_input": "2024-07-26T11:26:29.983789Z",
          "iopub.status.busy": "2024-07-26T11:26:29.983501Z",
          "iopub.status.idle": "2024-07-26T11:26:29.988977Z",
          "shell.execute_reply": "2024-07-26T11:26:29.987987Z",
          "shell.execute_reply.started": "2024-07-26T11:26:29.983764Z"
        },
        "id": "1vPFCTC5-Bhl",
        "outputId": "3872b4fc-ba3f-401d-9b2e-be9f1eedba33",
        "trusted": true
      },
      "outputs": [
        {
          "name": "stdout",
          "output_type": "stream",
          "text": [
            "cuda\n"
          ]
        }
      ],
      "source": [
        "device = torch.device('cuda' if torch.cuda.is_available() else 'cpu')\n",
        "print(device)"
      ]
    },
    {
      "attachments": {},
      "cell_type": "markdown",
      "metadata": {
        "id": "noZqZEyFr-WW"
      },
      "source": [
        "# Training Models\n",
        "Here we will do an initial training to compare models. We will move forward with the best fitting one for hyperparameter tuning. "
      ]
    },
    {
      "cell_type": "code",
      "execution_count": 19,
      "metadata": {
        "execution": {
          "iopub.execute_input": "2024-07-26T11:26:30.001082Z",
          "iopub.status.busy": "2024-07-26T11:26:30.000669Z",
          "iopub.status.idle": "2024-07-26T11:26:30.012717Z",
          "shell.execute_reply": "2024-07-26T11:26:30.011824Z",
          "shell.execute_reply.started": "2024-07-26T11:26:30.001029Z"
        },
        "id": "Y6V6gKA5-Bhm",
        "trusted": true
      },
      "outputs": [],
      "source": [
        "def train_model(model, train_loader, val_loader, criterion, optimizer, num_epochs=10):\n",
        "    model.to(device)\n",
        "    best_val_acc = 0.0\n",
        "    train_loss = []\n",
        "    validation_loss = []\n",
        "    for epoch in range(num_epochs):\n",
        "        model.train()\n",
        "        running_loss = 0.0\n",
        "        for inputs, labels in tqdm(train_loader, desc=f\"Epoch {epoch+1}/{num_epochs}\"):\n",
        "            inputs, labels = inputs.to(device), labels.to(device)\n",
        "            optimizer.zero_grad()\n",
        "            outputs = model(inputs)\n",
        "            loss = criterion(outputs, labels)\n",
        "            loss.backward()\n",
        "            optimizer.step()\n",
        "            running_loss += loss.item()\n",
        "\n",
        "        epoch_loss = running_loss / len(train_loader.dataset)\n",
        "        model.eval()\n",
        "        val_loss = 0.0\n",
        "        correct = 0\n",
        "        total = 0\n",
        "\n",
        "\n",
        "        with torch.no_grad():\n",
        "            for inputs, labels in val_loader:\n",
        "                inputs, labels = inputs.to(device), labels.to(device)\n",
        "                outputs = model(inputs)\n",
        "                loss = criterion(outputs, labels)\n",
        "                val_loss += loss.item()\n",
        "\n",
        "                _, predicted = torch.max(outputs.data, 1)\n",
        "                total += labels.size(0)\n",
        "                correct += (predicted == labels).sum().item()\n",
        "\n",
        "        val_loss = val_loss / len(val_loader.dataset)\n",
        "        val_accuracy = correct / total\n",
        "        train_loss.append(epoch_loss)\n",
        "        validation_loss.append(val_loss)\n",
        "        # Log metrics\n",
        "        print(f\"Epoch {epoch+1}/{num_epochs}\")\n",
        "        print(f\"Train Loss: {epoch_loss:.4f}\")\n",
        "        print(f\"Val Loss: {val_loss:.4f}\")\n",
        "        print(f\"Val Accuracy: {val_accuracy:.4f}\")\n",
        "        print()\n",
        "    print(train_loss, validation_loss)\n",
        "    return (train_loss, validation_loss)"
      ]
    },
    {
      "cell_type": "markdown",
      "metadata": {
        "id": "oGcnf2CBsB92"
      },
      "source": [
        "## Base CNN"
      ]
    },
    {
      "cell_type": "code",
      "execution_count": 30,
      "metadata": {
        "colab": {
          "base_uri": "https://localhost:8080/"
        },
        "execution": {
          "iopub.execute_input": "2024-07-26T12:12:17.120958Z",
          "iopub.status.busy": "2024-07-26T12:12:17.120057Z"
        },
        "id": "yEIdDRRn-Bhm",
        "outputId": "e76b4de9-d67f-4ee9-a25f-86a243fa572c",
        "trusted": true
      },
      "outputs": [
        {
          "name": "stderr",
          "output_type": "stream",
          "text": [
            "Epoch 1/50: 100%|██████████| 63/63 [01:12<00:00,  1.15s/it]\n"
          ]
        },
        {
          "name": "stdout",
          "output_type": "stream",
          "text": [
            "Epoch 1/50\n",
            "Train Loss: 0.0109\n",
            "Val Loss: 0.0109\n",
            "Val Accuracy: 0.5570\n",
            "\n"
          ]
        },
        {
          "name": "stderr",
          "output_type": "stream",
          "text": [
            "Epoch 2/50: 100%|██████████| 63/63 [00:51<00:00,  1.23it/s]\n"
          ]
        },
        {
          "name": "stdout",
          "output_type": "stream",
          "text": [
            "Epoch 2/50\n",
            "Train Loss: 0.0105\n",
            "Val Loss: 0.0104\n",
            "Val Accuracy: 0.5980\n",
            "\n"
          ]
        },
        {
          "name": "stderr",
          "output_type": "stream",
          "text": [
            "Epoch 3/50: 100%|██████████| 63/63 [00:50<00:00,  1.24it/s]\n"
          ]
        },
        {
          "name": "stdout",
          "output_type": "stream",
          "text": [
            "Epoch 3/50\n",
            "Train Loss: 0.0102\n",
            "Val Loss: 0.0103\n",
            "Val Accuracy: 0.6080\n",
            "\n"
          ]
        },
        {
          "name": "stderr",
          "output_type": "stream",
          "text": [
            "Epoch 4/50: 100%|██████████| 63/63 [00:50<00:00,  1.24it/s]\n"
          ]
        },
        {
          "name": "stdout",
          "output_type": "stream",
          "text": [
            "Epoch 4/50\n",
            "Train Loss: 0.0101\n",
            "Val Loss: 0.0101\n",
            "Val Accuracy: 0.6090\n",
            "\n"
          ]
        },
        {
          "name": "stderr",
          "output_type": "stream",
          "text": [
            "Epoch 5/50: 100%|██████████| 63/63 [00:51<00:00,  1.23it/s]\n"
          ]
        },
        {
          "name": "stdout",
          "output_type": "stream",
          "text": [
            "Epoch 5/50\n",
            "Train Loss: 0.0100\n",
            "Val Loss: 0.0099\n",
            "Val Accuracy: 0.6110\n",
            "\n"
          ]
        },
        {
          "name": "stderr",
          "output_type": "stream",
          "text": [
            "Epoch 6/50: 100%|██████████| 63/63 [00:50<00:00,  1.24it/s]\n"
          ]
        },
        {
          "name": "stdout",
          "output_type": "stream",
          "text": [
            "Epoch 6/50\n",
            "Train Loss: 0.0099\n",
            "Val Loss: 0.0100\n",
            "Val Accuracy: 0.6120\n",
            "\n"
          ]
        },
        {
          "name": "stderr",
          "output_type": "stream",
          "text": [
            "Epoch 7/50: 100%|██████████| 63/63 [00:51<00:00,  1.23it/s]\n"
          ]
        },
        {
          "name": "stdout",
          "output_type": "stream",
          "text": [
            "Epoch 7/50\n",
            "Train Loss: 0.0099\n",
            "Val Loss: 0.0098\n",
            "Val Accuracy: 0.6130\n",
            "\n"
          ]
        },
        {
          "name": "stderr",
          "output_type": "stream",
          "text": [
            "Epoch 8/50: 100%|██████████| 63/63 [00:51<00:00,  1.23it/s]\n"
          ]
        },
        {
          "name": "stdout",
          "output_type": "stream",
          "text": [
            "Epoch 8/50\n",
            "Train Loss: 0.0098\n",
            "Val Loss: 0.0097\n",
            "Val Accuracy: 0.6330\n",
            "\n"
          ]
        },
        {
          "name": "stderr",
          "output_type": "stream",
          "text": [
            "Epoch 9/50: 100%|██████████| 63/63 [00:53<00:00,  1.19it/s]\n"
          ]
        },
        {
          "name": "stdout",
          "output_type": "stream",
          "text": [
            "Epoch 9/50\n",
            "Train Loss: 0.0097\n",
            "Val Loss: 0.0096\n",
            "Val Accuracy: 0.6250\n",
            "\n"
          ]
        },
        {
          "name": "stderr",
          "output_type": "stream",
          "text": [
            "Epoch 10/50: 100%|██████████| 63/63 [00:51<00:00,  1.23it/s]\n"
          ]
        },
        {
          "name": "stdout",
          "output_type": "stream",
          "text": [
            "Epoch 10/50\n",
            "Train Loss: 0.0097\n",
            "Val Loss: 0.0096\n",
            "Val Accuracy: 0.6450\n",
            "\n"
          ]
        },
        {
          "name": "stderr",
          "output_type": "stream",
          "text": [
            "Epoch 11/50: 100%|██████████| 63/63 [00:51<00:00,  1.23it/s]\n"
          ]
        },
        {
          "name": "stdout",
          "output_type": "stream",
          "text": [
            "Epoch 11/50\n",
            "Train Loss: 0.0096\n",
            "Val Loss: 0.0096\n",
            "Val Accuracy: 0.6500\n",
            "\n"
          ]
        },
        {
          "name": "stderr",
          "output_type": "stream",
          "text": [
            "Epoch 12/50: 100%|██████████| 63/63 [00:50<00:00,  1.24it/s]\n"
          ]
        },
        {
          "name": "stdout",
          "output_type": "stream",
          "text": [
            "Epoch 12/50\n",
            "Train Loss: 0.0096\n",
            "Val Loss: 0.0094\n",
            "Val Accuracy: 0.6690\n",
            "\n"
          ]
        },
        {
          "name": "stderr",
          "output_type": "stream",
          "text": [
            "Epoch 13/50: 100%|██████████| 63/63 [00:50<00:00,  1.25it/s]\n"
          ]
        },
        {
          "name": "stdout",
          "output_type": "stream",
          "text": [
            "Epoch 13/50\n",
            "Train Loss: 0.0095\n",
            "Val Loss: 0.0095\n",
            "Val Accuracy: 0.6590\n",
            "\n"
          ]
        },
        {
          "name": "stderr",
          "output_type": "stream",
          "text": [
            "Epoch 14/50: 100%|██████████| 63/63 [00:50<00:00,  1.25it/s]\n"
          ]
        },
        {
          "name": "stdout",
          "output_type": "stream",
          "text": [
            "Epoch 14/50\n",
            "Train Loss: 0.0095\n",
            "Val Loss: 0.0094\n",
            "Val Accuracy: 0.6720\n",
            "\n"
          ]
        },
        {
          "name": "stderr",
          "output_type": "stream",
          "text": [
            "Epoch 15/50: 100%|██████████| 63/63 [00:50<00:00,  1.24it/s]\n"
          ]
        },
        {
          "name": "stdout",
          "output_type": "stream",
          "text": [
            "Epoch 15/50\n",
            "Train Loss: 0.0095\n",
            "Val Loss: 0.0094\n",
            "Val Accuracy: 0.6750\n",
            "\n"
          ]
        },
        {
          "name": "stderr",
          "output_type": "stream",
          "text": [
            "Epoch 16/50: 100%|██████████| 63/63 [00:51<00:00,  1.23it/s]\n"
          ]
        },
        {
          "name": "stdout",
          "output_type": "stream",
          "text": [
            "Epoch 16/50\n",
            "Train Loss: 0.0094\n",
            "Val Loss: 0.0094\n",
            "Val Accuracy: 0.6830\n",
            "\n"
          ]
        },
        {
          "name": "stderr",
          "output_type": "stream",
          "text": [
            "Epoch 17/50: 100%|██████████| 63/63 [00:50<00:00,  1.24it/s]\n"
          ]
        },
        {
          "name": "stdout",
          "output_type": "stream",
          "text": [
            "Epoch 17/50\n",
            "Train Loss: 0.0093\n",
            "Val Loss: 0.0092\n",
            "Val Accuracy: 0.6910\n",
            "\n"
          ]
        },
        {
          "name": "stderr",
          "output_type": "stream",
          "text": [
            "Epoch 18/50: 100%|██████████| 63/63 [00:51<00:00,  1.23it/s]\n"
          ]
        },
        {
          "name": "stdout",
          "output_type": "stream",
          "text": [
            "Epoch 18/50\n",
            "Train Loss: 0.0093\n",
            "Val Loss: 0.0092\n",
            "Val Accuracy: 0.7000\n",
            "\n"
          ]
        },
        {
          "name": "stderr",
          "output_type": "stream",
          "text": [
            "Epoch 19/50: 100%|██████████| 63/63 [00:51<00:00,  1.22it/s]\n"
          ]
        },
        {
          "name": "stdout",
          "output_type": "stream",
          "text": [
            "Epoch 19/50\n",
            "Train Loss: 0.0092\n",
            "Val Loss: 0.0092\n",
            "Val Accuracy: 0.7100\n",
            "\n"
          ]
        },
        {
          "name": "stderr",
          "output_type": "stream",
          "text": [
            "Epoch 20/50: 100%|██████████| 63/63 [00:51<00:00,  1.23it/s]\n"
          ]
        },
        {
          "name": "stdout",
          "output_type": "stream",
          "text": [
            "Epoch 20/50\n",
            "Train Loss: 0.0092\n",
            "Val Loss: 0.0092\n",
            "Val Accuracy: 0.7170\n",
            "\n"
          ]
        },
        {
          "name": "stderr",
          "output_type": "stream",
          "text": [
            "Epoch 21/50: 100%|██████████| 63/63 [00:50<00:00,  1.24it/s]\n"
          ]
        },
        {
          "name": "stdout",
          "output_type": "stream",
          "text": [
            "Epoch 21/50\n",
            "Train Loss: 0.0092\n",
            "Val Loss: 0.0093\n",
            "Val Accuracy: 0.6990\n",
            "\n"
          ]
        },
        {
          "name": "stderr",
          "output_type": "stream",
          "text": [
            "Epoch 22/50: 100%|██████████| 63/63 [00:50<00:00,  1.24it/s]\n"
          ]
        },
        {
          "name": "stdout",
          "output_type": "stream",
          "text": [
            "Epoch 22/50\n",
            "Train Loss: 0.0091\n",
            "Val Loss: 0.0091\n",
            "Val Accuracy: 0.7230\n",
            "\n"
          ]
        },
        {
          "name": "stderr",
          "output_type": "stream",
          "text": [
            "Epoch 23/50: 100%|██████████| 63/63 [00:50<00:00,  1.24it/s]\n"
          ]
        },
        {
          "name": "stdout",
          "output_type": "stream",
          "text": [
            "Epoch 23/50\n",
            "Train Loss: 0.0091\n",
            "Val Loss: 0.0091\n",
            "Val Accuracy: 0.7160\n",
            "\n"
          ]
        },
        {
          "name": "stderr",
          "output_type": "stream",
          "text": [
            "Epoch 24/50: 100%|██████████| 63/63 [00:50<00:00,  1.24it/s]\n"
          ]
        },
        {
          "name": "stdout",
          "output_type": "stream",
          "text": [
            "Epoch 24/50\n",
            "Train Loss: 0.0091\n",
            "Val Loss: 0.0091\n",
            "Val Accuracy: 0.7330\n",
            "\n"
          ]
        },
        {
          "name": "stderr",
          "output_type": "stream",
          "text": [
            "Epoch 25/50: 100%|██████████| 63/63 [00:51<00:00,  1.22it/s]\n"
          ]
        },
        {
          "name": "stdout",
          "output_type": "stream",
          "text": [
            "Epoch 25/50\n",
            "Train Loss: 0.0090\n",
            "Val Loss: 0.0090\n",
            "Val Accuracy: 0.7260\n",
            "\n"
          ]
        },
        {
          "name": "stderr",
          "output_type": "stream",
          "text": [
            "Epoch 26/50: 100%|██████████| 63/63 [00:50<00:00,  1.24it/s]\n"
          ]
        },
        {
          "name": "stdout",
          "output_type": "stream",
          "text": [
            "Epoch 26/50\n",
            "Train Loss: 0.0091\n",
            "Val Loss: 0.0091\n",
            "Val Accuracy: 0.7320\n",
            "\n"
          ]
        },
        {
          "name": "stderr",
          "output_type": "stream",
          "text": [
            "Epoch 27/50: 100%|██████████| 63/63 [00:51<00:00,  1.23it/s]\n"
          ]
        },
        {
          "name": "stdout",
          "output_type": "stream",
          "text": [
            "Epoch 27/50\n",
            "Train Loss: 0.0090\n",
            "Val Loss: 0.0089\n",
            "Val Accuracy: 0.7370\n",
            "\n"
          ]
        },
        {
          "name": "stderr",
          "output_type": "stream",
          "text": [
            "Epoch 28/50: 100%|██████████| 63/63 [00:50<00:00,  1.24it/s]\n"
          ]
        },
        {
          "name": "stdout",
          "output_type": "stream",
          "text": [
            "Epoch 28/50\n",
            "Train Loss: 0.0090\n",
            "Val Loss: 0.0088\n",
            "Val Accuracy: 0.7230\n",
            "\n"
          ]
        },
        {
          "name": "stderr",
          "output_type": "stream",
          "text": [
            "Epoch 29/50: 100%|██████████| 63/63 [00:50<00:00,  1.25it/s]\n"
          ]
        },
        {
          "name": "stdout",
          "output_type": "stream",
          "text": [
            "Epoch 29/50\n",
            "Train Loss: 0.0089\n",
            "Val Loss: 0.0090\n",
            "Val Accuracy: 0.7310\n",
            "\n"
          ]
        },
        {
          "name": "stderr",
          "output_type": "stream",
          "text": [
            "Epoch 30/50: 100%|██████████| 63/63 [00:50<00:00,  1.24it/s]\n"
          ]
        },
        {
          "name": "stdout",
          "output_type": "stream",
          "text": [
            "Epoch 30/50\n",
            "Train Loss: 0.0089\n",
            "Val Loss: 0.0090\n",
            "Val Accuracy: 0.7210\n",
            "\n"
          ]
        },
        {
          "name": "stderr",
          "output_type": "stream",
          "text": [
            "Epoch 31/50: 100%|██████████| 63/63 [00:51<00:00,  1.23it/s]\n"
          ]
        },
        {
          "name": "stdout",
          "output_type": "stream",
          "text": [
            "Epoch 31/50\n",
            "Train Loss: 0.0089\n",
            "Val Loss: 0.0088\n",
            "Val Accuracy: 0.7340\n",
            "\n"
          ]
        },
        {
          "name": "stderr",
          "output_type": "stream",
          "text": [
            "Epoch 32/50: 100%|██████████| 63/63 [00:50<00:00,  1.24it/s]\n"
          ]
        },
        {
          "name": "stdout",
          "output_type": "stream",
          "text": [
            "Epoch 32/50\n",
            "Train Loss: 0.0089\n",
            "Val Loss: 0.0089\n",
            "Val Accuracy: 0.7340\n",
            "\n"
          ]
        },
        {
          "name": "stderr",
          "output_type": "stream",
          "text": [
            "Epoch 33/50: 100%|██████████| 63/63 [00:51<00:00,  1.23it/s]\n"
          ]
        },
        {
          "name": "stdout",
          "output_type": "stream",
          "text": [
            "Epoch 33/50\n",
            "Train Loss: 0.0089\n",
            "Val Loss: 0.0089\n",
            "Val Accuracy: 0.7430\n",
            "\n"
          ]
        },
        {
          "name": "stderr",
          "output_type": "stream",
          "text": [
            "Epoch 34/50: 100%|██████████| 63/63 [00:50<00:00,  1.26it/s]\n"
          ]
        },
        {
          "name": "stdout",
          "output_type": "stream",
          "text": [
            "Epoch 34/50\n",
            "Train Loss: 0.0089\n",
            "Val Loss: 0.0087\n",
            "Val Accuracy: 0.7510\n",
            "\n"
          ]
        },
        {
          "name": "stderr",
          "output_type": "stream",
          "text": [
            "Epoch 35/50: 100%|██████████| 63/63 [00:50<00:00,  1.26it/s]\n"
          ]
        },
        {
          "name": "stdout",
          "output_type": "stream",
          "text": [
            "Epoch 35/50\n",
            "Train Loss: 0.0088\n",
            "Val Loss: 0.0087\n",
            "Val Accuracy: 0.7590\n",
            "\n"
          ]
        },
        {
          "name": "stderr",
          "output_type": "stream",
          "text": [
            "Epoch 36/50: 100%|██████████| 63/63 [00:49<00:00,  1.26it/s]\n"
          ]
        },
        {
          "name": "stdout",
          "output_type": "stream",
          "text": [
            "Epoch 36/50\n",
            "Train Loss: 0.0088\n",
            "Val Loss: 0.0088\n",
            "Val Accuracy: 0.7540\n",
            "\n"
          ]
        },
        {
          "name": "stderr",
          "output_type": "stream",
          "text": [
            "Epoch 37/50: 100%|██████████| 63/63 [00:50<00:00,  1.26it/s]\n"
          ]
        },
        {
          "name": "stdout",
          "output_type": "stream",
          "text": [
            "Epoch 37/50\n",
            "Train Loss: 0.0088\n",
            "Val Loss: 0.0087\n",
            "Val Accuracy: 0.7590\n",
            "\n"
          ]
        },
        {
          "name": "stderr",
          "output_type": "stream",
          "text": [
            "Epoch 38/50: 100%|██████████| 63/63 [00:50<00:00,  1.25it/s]\n"
          ]
        },
        {
          "name": "stdout",
          "output_type": "stream",
          "text": [
            "Epoch 38/50\n",
            "Train Loss: 0.0088\n",
            "Val Loss: 0.0087\n",
            "Val Accuracy: 0.7590\n",
            "\n"
          ]
        },
        {
          "name": "stderr",
          "output_type": "stream",
          "text": [
            "Epoch 39/50: 100%|██████████| 63/63 [00:50<00:00,  1.25it/s]\n"
          ]
        },
        {
          "name": "stdout",
          "output_type": "stream",
          "text": [
            "Epoch 39/50\n",
            "Train Loss: 0.0087\n",
            "Val Loss: 0.0088\n",
            "Val Accuracy: 0.7490\n",
            "\n"
          ]
        },
        {
          "name": "stderr",
          "output_type": "stream",
          "text": [
            "Epoch 40/50: 100%|██████████| 63/63 [00:50<00:00,  1.25it/s]\n"
          ]
        },
        {
          "name": "stdout",
          "output_type": "stream",
          "text": [
            "Epoch 40/50\n",
            "Train Loss: 0.0087\n",
            "Val Loss: 0.0087\n",
            "Val Accuracy: 0.7470\n",
            "\n"
          ]
        },
        {
          "name": "stderr",
          "output_type": "stream",
          "text": [
            "Epoch 41/50: 100%|██████████| 63/63 [00:50<00:00,  1.26it/s]\n"
          ]
        },
        {
          "name": "stdout",
          "output_type": "stream",
          "text": [
            "Epoch 41/50\n",
            "Train Loss: 0.0086\n",
            "Val Loss: 0.0085\n",
            "Val Accuracy: 0.7650\n",
            "\n"
          ]
        },
        {
          "name": "stderr",
          "output_type": "stream",
          "text": [
            "Epoch 42/50: 100%|██████████| 63/63 [00:50<00:00,  1.26it/s]\n"
          ]
        },
        {
          "name": "stdout",
          "output_type": "stream",
          "text": [
            "Epoch 42/50\n",
            "Train Loss: 0.0087\n",
            "Val Loss: 0.0086\n",
            "Val Accuracy: 0.7720\n",
            "\n"
          ]
        },
        {
          "name": "stderr",
          "output_type": "stream",
          "text": [
            "Epoch 43/50: 100%|██████████| 63/63 [00:50<00:00,  1.24it/s]\n"
          ]
        },
        {
          "name": "stdout",
          "output_type": "stream",
          "text": [
            "Epoch 43/50\n",
            "Train Loss: 0.0086\n",
            "Val Loss: 0.0086\n",
            "Val Accuracy: 0.7530\n",
            "\n"
          ]
        },
        {
          "name": "stderr",
          "output_type": "stream",
          "text": [
            "Epoch 44/50: 100%|██████████| 63/63 [00:51<00:00,  1.22it/s]\n"
          ]
        },
        {
          "name": "stdout",
          "output_type": "stream",
          "text": [
            "Epoch 44/50\n",
            "Train Loss: 0.0086\n",
            "Val Loss: 0.0086\n",
            "Val Accuracy: 0.7550\n",
            "\n"
          ]
        },
        {
          "name": "stderr",
          "output_type": "stream",
          "text": [
            "Epoch 45/50: 100%|██████████| 63/63 [00:52<00:00,  1.21it/s]\n"
          ]
        },
        {
          "name": "stdout",
          "output_type": "stream",
          "text": [
            "Epoch 45/50\n",
            "Train Loss: 0.0086\n",
            "Val Loss: 0.0086\n",
            "Val Accuracy: 0.7700\n",
            "\n"
          ]
        },
        {
          "name": "stderr",
          "output_type": "stream",
          "text": [
            "Epoch 46/50: 100%|██████████| 63/63 [00:53<00:00,  1.19it/s]\n"
          ]
        },
        {
          "name": "stdout",
          "output_type": "stream",
          "text": [
            "Epoch 46/50\n",
            "Train Loss: 0.0086\n",
            "Val Loss: 0.0085\n",
            "Val Accuracy: 0.7670\n",
            "\n"
          ]
        },
        {
          "name": "stderr",
          "output_type": "stream",
          "text": [
            "Epoch 47/50: 100%|██████████| 63/63 [00:52<00:00,  1.19it/s]\n"
          ]
        },
        {
          "name": "stdout",
          "output_type": "stream",
          "text": [
            "Epoch 47/50\n",
            "Train Loss: 0.0086\n",
            "Val Loss: 0.0088\n",
            "Val Accuracy: 0.7680\n",
            "\n"
          ]
        },
        {
          "name": "stderr",
          "output_type": "stream",
          "text": [
            "Epoch 48/50: 100%|██████████| 63/63 [00:52<00:00,  1.20it/s]\n"
          ]
        },
        {
          "name": "stdout",
          "output_type": "stream",
          "text": [
            "Epoch 48/50\n",
            "Train Loss: 0.0085\n",
            "Val Loss: 0.0087\n",
            "Val Accuracy: 0.7550\n",
            "\n"
          ]
        },
        {
          "name": "stderr",
          "output_type": "stream",
          "text": [
            "Epoch 49/50: 100%|██████████| 63/63 [00:51<00:00,  1.22it/s]\n"
          ]
        },
        {
          "name": "stdout",
          "output_type": "stream",
          "text": [
            "Epoch 49/50\n",
            "Train Loss: 0.0085\n",
            "Val Loss: 0.0085\n",
            "Val Accuracy: 0.7670\n",
            "\n"
          ]
        },
        {
          "name": "stderr",
          "output_type": "stream",
          "text": [
            "Epoch 50/50: 100%|██████████| 63/63 [00:51<00:00,  1.23it/s]\n"
          ]
        },
        {
          "name": "stdout",
          "output_type": "stream",
          "text": [
            "Epoch 50/50\n",
            "Train Loss: 0.0085\n",
            "Val Loss: 0.0085\n",
            "Val Accuracy: 0.7700\n",
            "\n",
            "[0.010943502008914948, 0.010520681276917458, 0.010217185914516449, 0.010091655895113944, 0.010003132745623589, 0.009914966881275177, 0.009852933540940285, 0.009835071101784706, 0.009703566312789918, 0.009703505650162697, 0.009609916232526302, 0.009574515759944916, 0.009520411185920239, 0.009472083248198033, 0.009457549035549163, 0.009429267391562461, 0.009327556170523168, 0.009323427282273769, 0.009241728357970715, 0.009228471234440804, 0.009195993050932884, 0.009129052549600601, 0.009120637521147728, 0.009128374427556991, 0.009029583856463432, 0.009063177593052387, 0.009009469091892243, 0.00899750779569149, 0.008940128415822982, 0.00890016507357359, 0.008890833660960197, 0.008922390967607498, 0.008871498860418797, 0.008870142601430417, 0.008838287837803363, 0.008765420779585838, 0.008815856508910655, 0.00876394110172987, 0.00874243225157261, 0.008704407200217246, 0.008637343436479568, 0.008673023715615272, 0.008646239005029201, 0.008601237334311009, 0.00856501042842865, 0.008622248113155364, 0.008605699472129346, 0.008544085219502449, 0.008472953841090203, 0.008487847290933132] [0.010889400124549866, 0.010394005835056305, 0.010253882646560668, 0.010086590886116027, 0.009902315735816956, 0.009962820053100585, 0.009784795224666595, 0.009735027253627777, 0.009574159085750579, 0.00964714503288269, 0.009591056764125824, 0.009382645577192306, 0.009482402741909026, 0.00942183855175972, 0.0093836530148983, 0.009369814217090607, 0.009181261301040649, 0.009178993791341782, 0.009226229727268219, 0.009190808653831482, 0.009273366868495942, 0.009055688172578812, 0.009082312673330307, 0.009137534618377685, 0.009025393575429917, 0.009085048139095307, 0.008917915165424346, 0.008818234026432037, 0.00899130630493164, 0.008958644866943359, 0.008849115699529647, 0.008903470873832703, 0.008873104393482208, 0.008684361934661865, 0.008677152335643768, 0.008806194067001344, 0.008674396991729736, 0.00869980275630951, 0.008829535514116287, 0.008654752016067505, 0.008531624525785446, 0.008625285476446152, 0.008626103520393372, 0.008584650665521621, 0.008566770672798157, 0.00847588786482811, 0.008767566919326782, 0.008728091418743134, 0.008521444737911225, 0.008539529234170914]\n"
          ]
        }
      ],
      "source": [
        "from torch import optim\n",
        "criterion = nn.CrossEntropyLoss()\n",
        "optimizer = optim.Adam(convnet.parameters(), lr=3e-4)\n",
        "\n",
        "loss = train_model(convnet, train_loader, test_loader, criterion, optimizer, num_epochs=50)"
      ]
    },
    {
      "cell_type": "code",
      "execution_count": null,
      "metadata": {
        "id": "WF0ne80u-Bhm",
        "trusted": true
      },
      "outputs": [],
      "source": []
    },
    {
      "cell_type": "code",
      "execution_count": 31,
      "metadata": {
        "colab": {
          "base_uri": "https://localhost:8080/",
          "height": 430
        },
        "id": "mu9kVMco-Bhm",
        "outputId": "b66442e6-bcc8-440a-9479-93525ed69a32",
        "trusted": true
      },
      "outputs": [
        {
          "name": "stderr",
          "output_type": "stream",
          "text": [
            "/tmp/ipykernel_322/1064595102.py:5: UserWarning: Matplotlib is currently using module://matplotlib_inline.backend_inline, which is a non-GUI backend, so cannot show the figure.\n",
            "  fig.show()\n"
          ]
        },
        {
          "data": {
            "image/png": "[encoded data removed]",
            "text/plain": [
              "<Figure size 640x480 with 1 Axes>"
            ]
          },
          "metadata": {},
          "output_type": "display_data"
        }
      ],
      "source": [
        "import matplotlib.pyplot as plt\n",
        "fig, ax = plt.subplots()\n",
        "ax.plot(loss[0])\n",
        "ax.plot(loss[1])\n",
        "fig.show()"
      ]
    },
    {
      "cell_type": "markdown",
      "metadata": {
        "id": "uly0ByjbsFAF"
      },
      "source": [
        "## Deep CNN"
      ]
    },
    {
      "cell_type": "code",
      "execution_count": 32,
      "metadata": {
        "id": "46Qyg2rn-Bhm"
      },
      "outputs": [],
      "source": [
        "convnetdeep = ConvNetDeep(2)"
      ]
    },
    {
      "cell_type": "code",
      "execution_count": 33,
      "metadata": {
        "colab": {
          "base_uri": "https://localhost:8080/"
        },
        "id": "pooorU2ulcO-",
        "outputId": "14682252-8c8b-44eb-8ea8-6a441e7cdfb2"
      },
      "outputs": [
        {
          "name": "stderr",
          "output_type": "stream",
          "text": [
            "Epoch 1/50: 100%|██████████| 63/63 [00:21<00:00,  2.98it/s]\n"
          ]
        },
        {
          "name": "stdout",
          "output_type": "stream",
          "text": [
            "Epoch 1/50\n",
            "Train Loss: 0.0107\n",
            "Val Loss: 0.0106\n",
            "Val Accuracy: 0.5890\n",
            "\n"
          ]
        },
        {
          "name": "stderr",
          "output_type": "stream",
          "text": [
            "Epoch 2/50: 100%|██████████| 63/63 [00:19<00:00,  3.18it/s]\n"
          ]
        },
        {
          "name": "stdout",
          "output_type": "stream",
          "text": [
            "Epoch 2/50\n",
            "Train Loss: 0.0102\n",
            "Val Loss: 0.0102\n",
            "Val Accuracy: 0.5790\n",
            "\n"
          ]
        },
        {
          "name": "stderr",
          "output_type": "stream",
          "text": [
            "Epoch 3/50: 100%|██████████| 63/63 [00:19<00:00,  3.25it/s]\n"
          ]
        },
        {
          "name": "stdout",
          "output_type": "stream",
          "text": [
            "Epoch 3/50\n",
            "Train Loss: 0.0097\n",
            "Val Loss: 0.0095\n",
            "Val Accuracy: 0.6040\n",
            "\n"
          ]
        },
        {
          "name": "stderr",
          "output_type": "stream",
          "text": [
            "Epoch 4/50: 100%|██████████| 63/63 [00:19<00:00,  3.26it/s]\n"
          ]
        },
        {
          "name": "stdout",
          "output_type": "stream",
          "text": [
            "Epoch 4/50\n",
            "Train Loss: 0.0092\n",
            "Val Loss: 0.0093\n",
            "Val Accuracy: 0.6040\n",
            "\n"
          ]
        },
        {
          "name": "stderr",
          "output_type": "stream",
          "text": [
            "Epoch 5/50: 100%|██████████| 63/63 [00:19<00:00,  3.24it/s]\n"
          ]
        },
        {
          "name": "stdout",
          "output_type": "stream",
          "text": [
            "Epoch 5/50\n",
            "Train Loss: 0.0089\n",
            "Val Loss: 0.0090\n",
            "Val Accuracy: 0.7160\n",
            "\n"
          ]
        },
        {
          "name": "stderr",
          "output_type": "stream",
          "text": [
            "Epoch 6/50: 100%|██████████| 63/63 [00:19<00:00,  3.26it/s]\n"
          ]
        },
        {
          "name": "stdout",
          "output_type": "stream",
          "text": [
            "Epoch 6/50\n",
            "Train Loss: 0.0088\n",
            "Val Loss: 0.0090\n",
            "Val Accuracy: 0.7230\n",
            "\n"
          ]
        },
        {
          "name": "stderr",
          "output_type": "stream",
          "text": [
            "Epoch 7/50: 100%|██████████| 63/63 [00:19<00:00,  3.28it/s]\n"
          ]
        },
        {
          "name": "stdout",
          "output_type": "stream",
          "text": [
            "Epoch 7/50\n",
            "Train Loss: 0.0087\n",
            "Val Loss: 0.0091\n",
            "Val Accuracy: 0.7570\n",
            "\n"
          ]
        },
        {
          "name": "stderr",
          "output_type": "stream",
          "text": [
            "Epoch 8/50: 100%|██████████| 63/63 [00:19<00:00,  3.27it/s]\n"
          ]
        },
        {
          "name": "stdout",
          "output_type": "stream",
          "text": [
            "Epoch 8/50\n",
            "Train Loss: 0.0086\n",
            "Val Loss: 0.0088\n",
            "Val Accuracy: 0.7220\n",
            "\n"
          ]
        },
        {
          "name": "stderr",
          "output_type": "stream",
          "text": [
            "Epoch 9/50: 100%|██████████| 63/63 [00:19<00:00,  3.24it/s]\n"
          ]
        },
        {
          "name": "stdout",
          "output_type": "stream",
          "text": [
            "Epoch 9/50\n",
            "Train Loss: 0.0086\n",
            "Val Loss: 0.0087\n",
            "Val Accuracy: 0.7470\n",
            "\n"
          ]
        },
        {
          "name": "stderr",
          "output_type": "stream",
          "text": [
            "Epoch 10/50: 100%|██████████| 63/63 [00:19<00:00,  3.26it/s]\n"
          ]
        },
        {
          "name": "stdout",
          "output_type": "stream",
          "text": [
            "Epoch 10/50\n",
            "Train Loss: 0.0084\n",
            "Val Loss: 0.0088\n",
            "Val Accuracy: 0.7400\n",
            "\n"
          ]
        },
        {
          "name": "stderr",
          "output_type": "stream",
          "text": [
            "Epoch 11/50: 100%|██████████| 63/63 [00:19<00:00,  3.19it/s]\n"
          ]
        },
        {
          "name": "stdout",
          "output_type": "stream",
          "text": [
            "Epoch 11/50\n",
            "Train Loss: 0.0085\n",
            "Val Loss: 0.0087\n",
            "Val Accuracy: 0.7450\n",
            "\n"
          ]
        },
        {
          "name": "stderr",
          "output_type": "stream",
          "text": [
            "Epoch 12/50: 100%|██████████| 63/63 [00:20<00:00,  3.11it/s]\n"
          ]
        },
        {
          "name": "stdout",
          "output_type": "stream",
          "text": [
            "Epoch 12/50\n",
            "Train Loss: 0.0083\n",
            "Val Loss: 0.0085\n",
            "Val Accuracy: 0.7670\n",
            "\n"
          ]
        },
        {
          "name": "stderr",
          "output_type": "stream",
          "text": [
            "Epoch 13/50: 100%|██████████| 63/63 [00:20<00:00,  3.13it/s]\n"
          ]
        },
        {
          "name": "stdout",
          "output_type": "stream",
          "text": [
            "Epoch 13/50\n",
            "Train Loss: 0.0082\n",
            "Val Loss: 0.0085\n",
            "Val Accuracy: 0.7690\n",
            "\n"
          ]
        },
        {
          "name": "stderr",
          "output_type": "stream",
          "text": [
            "Epoch 14/50: 100%|██████████| 63/63 [00:19<00:00,  3.20it/s]\n"
          ]
        },
        {
          "name": "stdout",
          "output_type": "stream",
          "text": [
            "Epoch 14/50\n",
            "Train Loss: 0.0082\n",
            "Val Loss: 0.0085\n",
            "Val Accuracy: 0.7640\n",
            "\n"
          ]
        },
        {
          "name": "stderr",
          "output_type": "stream",
          "text": [
            "Epoch 15/50: 100%|██████████| 63/63 [00:19<00:00,  3.21it/s]\n"
          ]
        },
        {
          "name": "stdout",
          "output_type": "stream",
          "text": [
            "Epoch 15/50\n",
            "Train Loss: 0.0081\n",
            "Val Loss: 0.0082\n",
            "Val Accuracy: 0.7780\n",
            "\n"
          ]
        },
        {
          "name": "stderr",
          "output_type": "stream",
          "text": [
            "Epoch 16/50: 100%|██████████| 63/63 [00:19<00:00,  3.20it/s]\n"
          ]
        },
        {
          "name": "stdout",
          "output_type": "stream",
          "text": [
            "Epoch 16/50\n",
            "Train Loss: 0.0081\n",
            "Val Loss: 0.0082\n",
            "Val Accuracy: 0.7590\n",
            "\n"
          ]
        },
        {
          "name": "stderr",
          "output_type": "stream",
          "text": [
            "Epoch 17/50: 100%|██████████| 63/63 [00:19<00:00,  3.22it/s]\n"
          ]
        },
        {
          "name": "stdout",
          "output_type": "stream",
          "text": [
            "Epoch 17/50\n",
            "Train Loss: 0.0080\n",
            "Val Loss: 0.0084\n",
            "Val Accuracy: 0.7840\n",
            "\n"
          ]
        },
        {
          "name": "stderr",
          "output_type": "stream",
          "text": [
            "Epoch 18/50: 100%|██████████| 63/63 [00:19<00:00,  3.20it/s]\n"
          ]
        },
        {
          "name": "stdout",
          "output_type": "stream",
          "text": [
            "Epoch 18/50\n",
            "Train Loss: 0.0080\n",
            "Val Loss: 0.0083\n",
            "Val Accuracy: 0.7850\n",
            "\n"
          ]
        },
        {
          "name": "stderr",
          "output_type": "stream",
          "text": [
            "Epoch 19/50: 100%|██████████| 63/63 [00:19<00:00,  3.22it/s]\n"
          ]
        },
        {
          "name": "stdout",
          "output_type": "stream",
          "text": [
            "Epoch 19/50\n",
            "Train Loss: 0.0079\n",
            "Val Loss: 0.0085\n",
            "Val Accuracy: 0.7680\n",
            "\n"
          ]
        },
        {
          "name": "stderr",
          "output_type": "stream",
          "text": [
            "Epoch 20/50: 100%|██████████| 63/63 [00:19<00:00,  3.17it/s]\n"
          ]
        },
        {
          "name": "stdout",
          "output_type": "stream",
          "text": [
            "Epoch 20/50\n",
            "Train Loss: 0.0079\n",
            "Val Loss: 0.0079\n",
            "Val Accuracy: 0.7770\n",
            "\n"
          ]
        },
        {
          "name": "stderr",
          "output_type": "stream",
          "text": [
            "Epoch 21/50: 100%|██████████| 63/63 [00:19<00:00,  3.19it/s]\n"
          ]
        },
        {
          "name": "stdout",
          "output_type": "stream",
          "text": [
            "Epoch 21/50\n",
            "Train Loss: 0.0077\n",
            "Val Loss: 0.0080\n",
            "Val Accuracy: 0.7780\n",
            "\n"
          ]
        },
        {
          "name": "stderr",
          "output_type": "stream",
          "text": [
            "Epoch 22/50: 100%|██████████| 63/63 [00:19<00:00,  3.18it/s]\n"
          ]
        },
        {
          "name": "stdout",
          "output_type": "stream",
          "text": [
            "Epoch 22/50\n",
            "Train Loss: 0.0078\n",
            "Val Loss: 0.0080\n",
            "Val Accuracy: 0.7710\n",
            "\n"
          ]
        },
        {
          "name": "stderr",
          "output_type": "stream",
          "text": [
            "Epoch 23/50: 100%|██████████| 63/63 [00:19<00:00,  3.18it/s]\n"
          ]
        },
        {
          "name": "stdout",
          "output_type": "stream",
          "text": [
            "Epoch 23/50\n",
            "Train Loss: 0.0077\n",
            "Val Loss: 0.0085\n",
            "Val Accuracy: 0.7550\n",
            "\n"
          ]
        },
        {
          "name": "stderr",
          "output_type": "stream",
          "text": [
            "Epoch 24/50: 100%|██████████| 63/63 [00:19<00:00,  3.19it/s]\n"
          ]
        },
        {
          "name": "stdout",
          "output_type": "stream",
          "text": [
            "Epoch 24/50\n",
            "Train Loss: 0.0078\n",
            "Val Loss: 0.0077\n",
            "Val Accuracy: 0.7780\n",
            "\n"
          ]
        },
        {
          "name": "stderr",
          "output_type": "stream",
          "text": [
            "Epoch 25/50: 100%|██████████| 63/63 [00:19<00:00,  3.17it/s]\n"
          ]
        },
        {
          "name": "stdout",
          "output_type": "stream",
          "text": [
            "Epoch 25/50\n",
            "Train Loss: 0.0076\n",
            "Val Loss: 0.0081\n",
            "Val Accuracy: 0.7720\n",
            "\n"
          ]
        },
        {
          "name": "stderr",
          "output_type": "stream",
          "text": [
            "Epoch 26/50: 100%|██████████| 63/63 [00:19<00:00,  3.17it/s]\n"
          ]
        },
        {
          "name": "stdout",
          "output_type": "stream",
          "text": [
            "Epoch 26/50\n",
            "Train Loss: 0.0076\n",
            "Val Loss: 0.0080\n",
            "Val Accuracy: 0.7810\n",
            "\n"
          ]
        },
        {
          "name": "stderr",
          "output_type": "stream",
          "text": [
            "Epoch 27/50: 100%|██████████| 63/63 [00:20<00:00,  3.15it/s]\n"
          ]
        },
        {
          "name": "stdout",
          "output_type": "stream",
          "text": [
            "Epoch 27/50\n",
            "Train Loss: 0.0076\n",
            "Val Loss: 0.0077\n",
            "Val Accuracy: 0.7800\n",
            "\n"
          ]
        },
        {
          "name": "stderr",
          "output_type": "stream",
          "text": [
            "Epoch 28/50: 100%|██████████| 63/63 [00:19<00:00,  3.17it/s]\n"
          ]
        },
        {
          "name": "stdout",
          "output_type": "stream",
          "text": [
            "Epoch 28/50\n",
            "Train Loss: 0.0075\n",
            "Val Loss: 0.0075\n",
            "Val Accuracy: 0.7910\n",
            "\n"
          ]
        },
        {
          "name": "stderr",
          "output_type": "stream",
          "text": [
            "Epoch 29/50: 100%|██████████| 63/63 [00:19<00:00,  3.20it/s]\n"
          ]
        },
        {
          "name": "stdout",
          "output_type": "stream",
          "text": [
            "Epoch 29/50\n",
            "Train Loss: 0.0075\n",
            "Val Loss: 0.0077\n",
            "Val Accuracy: 0.7730\n",
            "\n"
          ]
        },
        {
          "name": "stderr",
          "output_type": "stream",
          "text": [
            "Epoch 30/50: 100%|██████████| 63/63 [00:19<00:00,  3.21it/s]\n"
          ]
        },
        {
          "name": "stdout",
          "output_type": "stream",
          "text": [
            "Epoch 30/50\n",
            "Train Loss: 0.0074\n",
            "Val Loss: 0.0075\n",
            "Val Accuracy: 0.7910\n",
            "\n"
          ]
        },
        {
          "name": "stderr",
          "output_type": "stream",
          "text": [
            "Epoch 31/50: 100%|██████████| 63/63 [00:19<00:00,  3.20it/s]\n"
          ]
        },
        {
          "name": "stdout",
          "output_type": "stream",
          "text": [
            "Epoch 31/50\n",
            "Train Loss: 0.0074\n",
            "Val Loss: 0.0075\n",
            "Val Accuracy: 0.8030\n",
            "\n"
          ]
        },
        {
          "name": "stderr",
          "output_type": "stream",
          "text": [
            "Epoch 32/50: 100%|██████████| 63/63 [00:19<00:00,  3.22it/s]\n"
          ]
        },
        {
          "name": "stdout",
          "output_type": "stream",
          "text": [
            "Epoch 32/50\n",
            "Train Loss: 0.0073\n",
            "Val Loss: 0.0077\n",
            "Val Accuracy: 0.7690\n",
            "\n"
          ]
        },
        {
          "name": "stderr",
          "output_type": "stream",
          "text": [
            "Epoch 33/50: 100%|██████████| 63/63 [00:19<00:00,  3.20it/s]\n"
          ]
        },
        {
          "name": "stdout",
          "output_type": "stream",
          "text": [
            "Epoch 33/50\n",
            "Train Loss: 0.0074\n",
            "Val Loss: 0.0077\n",
            "Val Accuracy: 0.7890\n",
            "\n"
          ]
        },
        {
          "name": "stderr",
          "output_type": "stream",
          "text": [
            "Epoch 34/50: 100%|██████████| 63/63 [00:19<00:00,  3.17it/s]\n"
          ]
        },
        {
          "name": "stdout",
          "output_type": "stream",
          "text": [
            "Epoch 34/50\n",
            "Train Loss: 0.0072\n",
            "Val Loss: 0.0074\n",
            "Val Accuracy: 0.7930\n",
            "\n"
          ]
        },
        {
          "name": "stderr",
          "output_type": "stream",
          "text": [
            "Epoch 35/50: 100%|██████████| 63/63 [00:19<00:00,  3.19it/s]\n"
          ]
        },
        {
          "name": "stdout",
          "output_type": "stream",
          "text": [
            "Epoch 35/50\n",
            "Train Loss: 0.0072\n",
            "Val Loss: 0.0074\n",
            "Val Accuracy: 0.7930\n",
            "\n"
          ]
        },
        {
          "name": "stderr",
          "output_type": "stream",
          "text": [
            "Epoch 36/50: 100%|██████████| 63/63 [00:19<00:00,  3.21it/s]\n"
          ]
        },
        {
          "name": "stdout",
          "output_type": "stream",
          "text": [
            "Epoch 36/50\n",
            "Train Loss: 0.0072\n",
            "Val Loss: 0.0074\n",
            "Val Accuracy: 0.8040\n",
            "\n"
          ]
        },
        {
          "name": "stderr",
          "output_type": "stream",
          "text": [
            "Epoch 37/50: 100%|██████████| 63/63 [00:19<00:00,  3.21it/s]\n"
          ]
        },
        {
          "name": "stdout",
          "output_type": "stream",
          "text": [
            "Epoch 37/50\n",
            "Train Loss: 0.0071\n",
            "Val Loss: 0.0076\n",
            "Val Accuracy: 0.7870\n",
            "\n"
          ]
        },
        {
          "name": "stderr",
          "output_type": "stream",
          "text": [
            "Epoch 38/50: 100%|██████████| 63/63 [00:19<00:00,  3.21it/s]\n"
          ]
        },
        {
          "name": "stdout",
          "output_type": "stream",
          "text": [
            "Epoch 38/50\n",
            "Train Loss: 0.0071\n",
            "Val Loss: 0.0074\n",
            "Val Accuracy: 0.7840\n",
            "\n"
          ]
        },
        {
          "name": "stderr",
          "output_type": "stream",
          "text": [
            "Epoch 39/50: 100%|██████████| 63/63 [00:19<00:00,  3.21it/s]\n"
          ]
        },
        {
          "name": "stdout",
          "output_type": "stream",
          "text": [
            "Epoch 39/50\n",
            "Train Loss: 0.0071\n",
            "Val Loss: 0.0072\n",
            "Val Accuracy: 0.8010\n",
            "\n"
          ]
        },
        {
          "name": "stderr",
          "output_type": "stream",
          "text": [
            "Epoch 40/50: 100%|██████████| 63/63 [00:19<00:00,  3.21it/s]\n"
          ]
        },
        {
          "name": "stdout",
          "output_type": "stream",
          "text": [
            "Epoch 40/50\n",
            "Train Loss: 0.0070\n",
            "Val Loss: 0.0072\n",
            "Val Accuracy: 0.7930\n",
            "\n"
          ]
        },
        {
          "name": "stderr",
          "output_type": "stream",
          "text": [
            "Epoch 41/50: 100%|██████████| 63/63 [00:19<00:00,  3.22it/s]\n"
          ]
        },
        {
          "name": "stdout",
          "output_type": "stream",
          "text": [
            "Epoch 41/50\n",
            "Train Loss: 0.0071\n",
            "Val Loss: 0.0077\n",
            "Val Accuracy: 0.7810\n",
            "\n"
          ]
        },
        {
          "name": "stderr",
          "output_type": "stream",
          "text": [
            "Epoch 42/50: 100%|██████████| 63/63 [00:19<00:00,  3.21it/s]\n"
          ]
        },
        {
          "name": "stdout",
          "output_type": "stream",
          "text": [
            "Epoch 42/50\n",
            "Train Loss: 0.0071\n",
            "Val Loss: 0.0070\n",
            "Val Accuracy: 0.8020\n",
            "\n"
          ]
        },
        {
          "name": "stderr",
          "output_type": "stream",
          "text": [
            "Epoch 43/50: 100%|██████████| 63/63 [00:19<00:00,  3.21it/s]\n"
          ]
        },
        {
          "name": "stdout",
          "output_type": "stream",
          "text": [
            "Epoch 43/50\n",
            "Train Loss: 0.0069\n",
            "Val Loss: 0.0073\n",
            "Val Accuracy: 0.7790\n",
            "\n"
          ]
        },
        {
          "name": "stderr",
          "output_type": "stream",
          "text": [
            "Epoch 44/50: 100%|██████████| 63/63 [00:19<00:00,  3.21it/s]\n"
          ]
        },
        {
          "name": "stdout",
          "output_type": "stream",
          "text": [
            "Epoch 44/50\n",
            "Train Loss: 0.0069\n",
            "Val Loss: 0.0069\n",
            "Val Accuracy: 0.8020\n",
            "\n"
          ]
        },
        {
          "name": "stderr",
          "output_type": "stream",
          "text": [
            "Epoch 45/50: 100%|██████████| 63/63 [00:19<00:00,  3.21it/s]\n"
          ]
        },
        {
          "name": "stdout",
          "output_type": "stream",
          "text": [
            "Epoch 45/50\n",
            "Train Loss: 0.0068\n",
            "Val Loss: 0.0070\n",
            "Val Accuracy: 0.8050\n",
            "\n"
          ]
        },
        {
          "name": "stderr",
          "output_type": "stream",
          "text": [
            "Epoch 46/50: 100%|██████████| 63/63 [00:19<00:00,  3.20it/s]\n"
          ]
        },
        {
          "name": "stdout",
          "output_type": "stream",
          "text": [
            "Epoch 46/50\n",
            "Train Loss: 0.0068\n",
            "Val Loss: 0.0075\n",
            "Val Accuracy: 0.7990\n",
            "\n"
          ]
        },
        {
          "name": "stderr",
          "output_type": "stream",
          "text": [
            "Epoch 47/50: 100%|██████████| 63/63 [00:19<00:00,  3.20it/s]\n"
          ]
        },
        {
          "name": "stdout",
          "output_type": "stream",
          "text": [
            "Epoch 47/50\n",
            "Train Loss: 0.0068\n",
            "Val Loss: 0.0081\n",
            "Val Accuracy: 0.7620\n",
            "\n"
          ]
        },
        {
          "name": "stderr",
          "output_type": "stream",
          "text": [
            "Epoch 48/50: 100%|██████████| 63/63 [00:19<00:00,  3.19it/s]\n"
          ]
        },
        {
          "name": "stdout",
          "output_type": "stream",
          "text": [
            "Epoch 48/50\n",
            "Train Loss: 0.0068\n",
            "Val Loss: 0.0068\n",
            "Val Accuracy: 0.8110\n",
            "\n"
          ]
        },
        {
          "name": "stderr",
          "output_type": "stream",
          "text": [
            "Epoch 49/50: 100%|██████████| 63/63 [00:19<00:00,  3.20it/s]\n"
          ]
        },
        {
          "name": "stdout",
          "output_type": "stream",
          "text": [
            "Epoch 49/50\n",
            "Train Loss: 0.0068\n",
            "Val Loss: 0.0071\n",
            "Val Accuracy: 0.8080\n",
            "\n"
          ]
        },
        {
          "name": "stderr",
          "output_type": "stream",
          "text": [
            "Epoch 50/50: 100%|██████████| 63/63 [00:19<00:00,  3.20it/s]\n"
          ]
        },
        {
          "name": "stdout",
          "output_type": "stream",
          "text": [
            "Epoch 50/50\n",
            "Train Loss: 0.0067\n",
            "Val Loss: 0.0069\n",
            "Val Accuracy: 0.7970\n",
            "\n",
            "[0.01070964641869068, 0.010222266539931297, 0.009697102412581444, 0.009239390693604946, 0.008911960452795029, 0.008842685878276826, 0.008688299350440503, 0.00861706106364727, 0.008582749366760255, 0.008447541877627373, 0.008504497833549977, 0.008303466640412807, 0.008193829700350761, 0.008150492236018181, 0.008107343278825284, 0.008089366033673287, 0.008043282315135002, 0.008043224312365056, 0.007920975618064404, 0.007903506234288215, 0.007676940836012364, 0.007821220509707927, 0.00769572477787733, 0.007765032939612866, 0.007649861618876457, 0.007571283951401711, 0.007573410533368587, 0.007506441876292229, 0.00748125646263361, 0.007416167423129082, 0.007433301582932472, 0.0072715656161308284, 0.007368866533041, 0.00724145594984293, 0.007242066517472267, 0.0071942413970828055, 0.007112910740077496, 0.007086173035204411, 0.007051334269344806, 0.006996967293322086, 0.007073189698159695, 0.007070420719683171, 0.006885282285511493, 0.006912463948130608, 0.006790641762316227, 0.006813259348273277, 0.006813861317932606, 0.006820314183831215, 0.006807153470814228, 0.006715939983725548] [0.010573318123817444, 0.010207895398139953, 0.00945511332154274, 0.009274022817611695, 0.008966574490070343, 0.008979021281003951, 0.00910991406440735, 0.008782036513090133, 0.008671569526195527, 0.008804252713918687, 0.008673183679580688, 0.008525882124900817, 0.008505315095186233, 0.008547831535339355, 0.008221837431192399, 0.008243516683578492, 0.008384376287460327, 0.00826139023900032, 0.00848900306224823, 0.007913151919841767, 0.007968929052352905, 0.00795149564743042, 0.008488772571086883, 0.007651939511299133, 0.008113171696662903, 0.008002794384956359, 0.007732841908931732, 0.007512837797403336, 0.007722838163375855, 0.0074997332990169524, 0.007517141848802566, 0.007710577070713044, 0.0076846425533294675, 0.007408260732889175, 0.00739392477273941, 0.007411815732717514, 0.007605335116386414, 0.007423613101243973, 0.00717840924859047, 0.0071953475773334505, 0.007686950147151947, 0.007044747442007065, 0.007271989703178406, 0.00688760569691658, 0.006973883122205734, 0.007490806847810745, 0.008146887183189393, 0.006809336364269256, 0.007141412526369095, 0.006912765949964523]\n"
          ]
        }
      ],
      "source": [
        "criterion = nn.CrossEntropyLoss()\n",
        "optimizer = optim.Adam(convnetdeep.parameters(), lr=3e-4)\n",
        "\n",
        "deep_conv_net_loss = train_model(convnetdeep, train_loader, test_loader, criterion, optimizer, num_epochs=50)"
      ]
    },
    {
      "cell_type": "code",
      "execution_count": 34,
      "metadata": {
        "colab": {
          "base_uri": "https://localhost:8080/",
          "height": 430
        },
        "id": "Mz5OXabQlhzK",
        "outputId": "1eb2cabe-fafc-4e81-f672-8f72280e7d8c"
      },
      "outputs": [
        {
          "name": "stderr",
          "output_type": "stream",
          "text": [
            "/tmp/ipykernel_322/3085517904.py:4: UserWarning: Matplotlib is currently using module://matplotlib_inline.backend_inline, which is a non-GUI backend, so cannot show the figure.\n",
            "  fig.show()\n"
          ]
        },
        {
          "data": {
            "image/png": "[encoded data removed]",
            "text/plain": [
              "<Figure size 640x480 with 1 Axes>"
            ]
          },
          "metadata": {},
          "output_type": "display_data"
        }
      ],
      "source": [
        "fig, ax = plt.subplots()\n",
        "ax.plot(loss[0])\n",
        "ax.plot(loss[1])\n",
        "fig.show()"
      ]
    },
    {
      "cell_type": "markdown",
      "metadata": {
        "id": "heTh18Uutr2q"
      },
      "source": [
        "Looks like the deep CNN did a better job of fitting the data. It does not appear either of the models fully converged, so we should adjust the learning rate or extend the training epochs. We will include that in the hyperparameter tuning in the next step."
      ]
    },
    {
      "attachments": {},
      "cell_type": "markdown",
      "metadata": {
        "id": "GM4-4qRjsUPg"
      },
      "source": [
        "# Hyper Parameter Tuning\n",
        "Due to limitations of compute resources, I am just going to do a grid search on our parameters. For a full optimization, it would be more appropriate to use a numerical optimization technique like a genetetic algorithm to tune the parameters. I'll also only be testing on 5 epochs for each parameter test, this is again due to time and resource constraints.  "
      ]
    },
    {
      "cell_type": "code",
      "execution_count": null,
      "metadata": {},
      "outputs": [],
      "source": [
        "%pip install scikit-learn"
      ]
    },
    {
      "cell_type": "code",
      "execution_count": 35,
      "metadata": {
        "id": "cql7VC2Nlqq8"
      },
      "outputs": [],
      "source": [
        "import itertools\n",
        "from sklearn.model_selection import ParameterGrid"
      ]
    },
    {
      "cell_type": "code",
      "execution_count": 36,
      "metadata": {
        "id": "D0Aa_mxdz1sB"
      },
      "outputs": [],
      "source": [
        "def train_and_evaluate(model, optimizer, train_loader, val_loader):\n",
        "  criterion = nn.CrossEntropyLoss()\n",
        "  loss = train_model(model, train_loader, val_loader, criterion, optimizer, num_epochs=5)\n",
        "  return loss\n",
        "\n",
        "def grid_search(model_class, param_grid, train_loader, val_loader):\n",
        "  results = []\n",
        "  for params in tqdm(ParameterGrid(param_grid)):\n",
        "    model = model_class(2, kernel_size=params['kernel_size'], stride=params['stride'])\n",
        "    optimizer = optim.Adam(model.parameters(), lr=params['lr'])\n",
        "    val_accuracy = train_and_evaluate(model, optimizer, train_loader, val_loader)\n",
        "    results.append({**params, 'val_accuracy': val_accuracy[-1]})\n",
        "\n",
        "  return results\n"
      ]
    },
    {
      "cell_type": "code",
      "execution_count": 43,
      "metadata": {
        "colab": {
          "base_uri": "https://localhost:8080/"
        },
        "id": "AqC_isl-HoMg",
        "outputId": "d44539cf-ca51-4cfe-8702-60a3f552cf91"
      },
      "outputs": [
        {
          "name": "stderr",
          "output_type": "stream",
          "text": [
            "Epoch 1/5: 100%|██████████| 63/63 [00:19<00:00,  3.31it/s]\n"
          ]
        },
        {
          "name": "stdout",
          "output_type": "stream",
          "text": [
            "Epoch 1/5\n",
            "Train Loss: 0.0111\n",
            "Val Loss: 0.0111\n",
            "Val Accuracy: 0.5250\n",
            "\n"
          ]
        },
        {
          "name": "stderr",
          "output_type": "stream",
          "text": [
            "Epoch 2/5: 100%|██████████| 63/63 [00:19<00:00,  3.27it/s]\n"
          ]
        },
        {
          "name": "stdout",
          "output_type": "stream",
          "text": [
            "Epoch 2/5\n",
            "Train Loss: 0.0109\n",
            "Val Loss: 0.0110\n",
            "Val Accuracy: 0.5540\n",
            "\n"
          ]
        },
        {
          "name": "stderr",
          "output_type": "stream",
          "text": [
            "Epoch 3/5: 100%|██████████| 63/63 [00:19<00:00,  3.25it/s]\n"
          ]
        },
        {
          "name": "stdout",
          "output_type": "stream",
          "text": [
            "Epoch 3/5\n",
            "Train Loss: 0.0108\n",
            "Val Loss: 0.0110\n",
            "Val Accuracy: 0.5290\n",
            "\n"
          ]
        },
        {
          "name": "stderr",
          "output_type": "stream",
          "text": [
            "Epoch 4/5: 100%|██████████| 63/63 [00:18<00:00,  3.40it/s]\n"
          ]
        },
        {
          "name": "stdout",
          "output_type": "stream",
          "text": [
            "Epoch 4/5\n",
            "Train Loss: 0.0108\n",
            "Val Loss: 0.0108\n",
            "Val Accuracy: 0.5910\n",
            "\n"
          ]
        },
        {
          "name": "stderr",
          "output_type": "stream",
          "text": [
            "Epoch 5/5: 100%|██████████| 63/63 [00:18<00:00,  3.40it/s]\n",
            " 11%|█         | 1/9 [01:49<14:32, 109.05s/it]"
          ]
        },
        {
          "name": "stdout",
          "output_type": "stream",
          "text": [
            "Epoch 5/5\n",
            "Train Loss: 0.0107\n",
            "Val Loss: 0.0109\n",
            "Val Accuracy: 0.5840\n",
            "\n",
            "[0.011065949872136115, 0.010868040174245834, 0.010837335333228112, 0.010768501356244088, 0.010681692123413087] [0.01113882166147232, 0.010971500098705293, 0.011003167390823364, 0.010837036073207856, 0.010885341882705688]\n"
          ]
        },
        {
          "name": "stderr",
          "output_type": "stream",
          "text": [
            "Epoch 1/5: 100%|██████████| 63/63 [00:18<00:00,  3.44it/s]\n"
          ]
        },
        {
          "name": "stdout",
          "output_type": "stream",
          "text": [
            "Epoch 1/5\n",
            "Train Loss: 0.0112\n",
            "Val Loss: 0.0111\n",
            "Val Accuracy: 0.5300\n",
            "\n"
          ]
        },
        {
          "name": "stderr",
          "output_type": "stream",
          "text": [
            "Epoch 2/5: 100%|██████████| 63/63 [00:18<00:00,  3.45it/s]\n"
          ]
        },
        {
          "name": "stdout",
          "output_type": "stream",
          "text": [
            "Epoch 2/5\n",
            "Train Loss: 0.0108\n",
            "Val Loss: 0.0109\n",
            "Val Accuracy: 0.5610\n",
            "\n"
          ]
        },
        {
          "name": "stderr",
          "output_type": "stream",
          "text": [
            "Epoch 3/5: 100%|██████████| 63/63 [00:18<00:00,  3.40it/s]\n"
          ]
        },
        {
          "name": "stdout",
          "output_type": "stream",
          "text": [
            "Epoch 3/5\n",
            "Train Loss: 0.0108\n",
            "Val Loss: 0.0108\n",
            "Val Accuracy: 0.5730\n",
            "\n"
          ]
        },
        {
          "name": "stderr",
          "output_type": "stream",
          "text": [
            "Epoch 4/5: 100%|██████████| 63/63 [00:18<00:00,  3.43it/s]\n"
          ]
        },
        {
          "name": "stdout",
          "output_type": "stream",
          "text": [
            "Epoch 4/5\n",
            "Train Loss: 0.0106\n",
            "Val Loss: 0.0108\n",
            "Val Accuracy: 0.5870\n",
            "\n"
          ]
        },
        {
          "name": "stderr",
          "output_type": "stream",
          "text": [
            "Epoch 5/5: 100%|██████████| 63/63 [00:18<00:00,  3.44it/s]\n",
            " 22%|██▏       | 2/9 [03:34<12:29, 107.08s/it]"
          ]
        },
        {
          "name": "stdout",
          "output_type": "stream",
          "text": [
            "Epoch 5/5\n",
            "Train Loss: 0.0106\n",
            "Val Loss: 0.0108\n",
            "Val Accuracy: 0.5790\n",
            "\n",
            "[0.011178354620933533, 0.010791650965809823, 0.010807270497083663, 0.010597457960247993, 0.010596114665269852] [0.01112291395664215, 0.01094704133272171, 0.010794280171394348, 0.010782488465309143, 0.010791183412075044]\n"
          ]
        },
        {
          "name": "stderr",
          "output_type": "stream",
          "text": [
            "Epoch 1/5: 100%|██████████| 63/63 [00:18<00:00,  3.43it/s]\n"
          ]
        },
        {
          "name": "stdout",
          "output_type": "stream",
          "text": [
            "Epoch 1/5\n",
            "Train Loss: 0.0107\n",
            "Val Loss: 0.0112\n",
            "Val Accuracy: 0.5670\n",
            "\n"
          ]
        },
        {
          "name": "stderr",
          "output_type": "stream",
          "text": [
            "Epoch 2/5: 100%|██████████| 63/63 [00:18<00:00,  3.42it/s]\n"
          ]
        },
        {
          "name": "stdout",
          "output_type": "stream",
          "text": [
            "Epoch 2/5\n",
            "Train Loss: 0.0106\n",
            "Val Loss: 0.0109\n",
            "Val Accuracy: 0.5770\n",
            "\n"
          ]
        },
        {
          "name": "stderr",
          "output_type": "stream",
          "text": [
            "Epoch 3/5: 100%|██████████| 63/63 [00:18<00:00,  3.43it/s]\n"
          ]
        },
        {
          "name": "stdout",
          "output_type": "stream",
          "text": [
            "Epoch 3/5\n",
            "Train Loss: 0.0105\n",
            "Val Loss: 0.0107\n",
            "Val Accuracy: 0.6000\n",
            "\n"
          ]
        },
        {
          "name": "stderr",
          "output_type": "stream",
          "text": [
            "Epoch 4/5: 100%|██████████| 63/63 [00:18<00:00,  3.42it/s]\n"
          ]
        },
        {
          "name": "stdout",
          "output_type": "stream",
          "text": [
            "Epoch 4/5\n",
            "Train Loss: 0.0104\n",
            "Val Loss: 0.0105\n",
            "Val Accuracy: 0.6050\n",
            "\n"
          ]
        },
        {
          "name": "stderr",
          "output_type": "stream",
          "text": [
            "Epoch 5/5: 100%|██████████| 63/63 [00:18<00:00,  3.42it/s]\n",
            " 33%|███▎      | 3/9 [05:20<10:39, 106.56s/it]"
          ]
        },
        {
          "name": "stdout",
          "output_type": "stream",
          "text": [
            "Epoch 5/5\n",
            "Train Loss: 0.0102\n",
            "Val Loss: 0.0103\n",
            "Val Accuracy: 0.6030\n",
            "\n",
            "[0.010725384294986725, 0.010617052391171455, 0.010537050634622574, 0.010430950790643692, 0.010221055194735528] [0.0111671382188797, 0.0109107466340065, 0.010656993567943572, 0.010526807963848113, 0.0103133145570755]\n"
          ]
        },
        {
          "name": "stderr",
          "output_type": "stream",
          "text": [
            "Epoch 1/5: 100%|██████████| 63/63 [00:19<00:00,  3.23it/s]\n"
          ]
        },
        {
          "name": "stdout",
          "output_type": "stream",
          "text": [
            "Epoch 1/5\n",
            "Train Loss: 0.0108\n",
            "Val Loss: 0.0110\n",
            "Val Accuracy: 0.5490\n",
            "\n"
          ]
        },
        {
          "name": "stderr",
          "output_type": "stream",
          "text": [
            "Epoch 2/5: 100%|██████████| 63/63 [00:19<00:00,  3.26it/s]\n"
          ]
        },
        {
          "name": "stdout",
          "output_type": "stream",
          "text": [
            "Epoch 2/5\n",
            "Train Loss: 0.0107\n",
            "Val Loss: 0.0107\n",
            "Val Accuracy: 0.5690\n",
            "\n"
          ]
        },
        {
          "name": "stderr",
          "output_type": "stream",
          "text": [
            "Epoch 3/5: 100%|██████████| 63/63 [00:19<00:00,  3.25it/s]\n"
          ]
        },
        {
          "name": "stdout",
          "output_type": "stream",
          "text": [
            "Epoch 3/5\n",
            "Train Loss: 0.0105\n",
            "Val Loss: 0.0105\n",
            "Val Accuracy: 0.6030\n",
            "\n"
          ]
        },
        {
          "name": "stderr",
          "output_type": "stream",
          "text": [
            "Epoch 4/5: 100%|██████████| 63/63 [00:19<00:00,  3.28it/s]\n"
          ]
        },
        {
          "name": "stdout",
          "output_type": "stream",
          "text": [
            "Epoch 4/5\n",
            "Train Loss: 0.0105\n",
            "Val Loss: 0.0105\n",
            "Val Accuracy: 0.6150\n",
            "\n"
          ]
        },
        {
          "name": "stderr",
          "output_type": "stream",
          "text": [
            "Epoch 5/5: 100%|██████████| 63/63 [00:19<00:00,  3.27it/s]\n",
            " 44%|████▍     | 4/9 [07:09<08:56, 107.32s/it]"
          ]
        },
        {
          "name": "stdout",
          "output_type": "stream",
          "text": [
            "Epoch 5/5\n",
            "Train Loss: 0.0103\n",
            "Val Loss: 0.0102\n",
            "Val Accuracy: 0.5900\n",
            "\n",
            "[0.010793985247612, 0.010701411381363869, 0.010506552129983903, 0.010542208954691887, 0.010274286895990371] [0.010972374439239502, 0.010710850775241853, 0.010493017375469208, 0.010538546442985535, 0.010228163480758667]\n"
          ]
        },
        {
          "name": "stderr",
          "output_type": "stream",
          "text": [
            "Epoch 1/5: 100%|██████████| 63/63 [00:19<00:00,  3.24it/s]\n"
          ]
        },
        {
          "name": "stdout",
          "output_type": "stream",
          "text": [
            "Epoch 1/5\n",
            "Train Loss: 0.0107\n",
            "Val Loss: 0.0106\n",
            "Val Accuracy: 0.5840\n",
            "\n"
          ]
        },
        {
          "name": "stderr",
          "output_type": "stream",
          "text": [
            "Epoch 2/5: 100%|██████████| 63/63 [00:19<00:00,  3.26it/s]\n"
          ]
        },
        {
          "name": "stdout",
          "output_type": "stream",
          "text": [
            "Epoch 2/5\n",
            "Train Loss: 0.0105\n",
            "Val Loss: 0.0105\n",
            "Val Accuracy: 0.5800\n",
            "\n"
          ]
        },
        {
          "name": "stderr",
          "output_type": "stream",
          "text": [
            "Epoch 3/5: 100%|██████████| 63/63 [00:19<00:00,  3.25it/s]\n"
          ]
        },
        {
          "name": "stdout",
          "output_type": "stream",
          "text": [
            "Epoch 3/5\n",
            "Train Loss: 0.0103\n",
            "Val Loss: 0.0101\n",
            "Val Accuracy: 0.6080\n",
            "\n"
          ]
        },
        {
          "name": "stderr",
          "output_type": "stream",
          "text": [
            "Epoch 4/5: 100%|██████████| 63/63 [00:19<00:00,  3.25it/s]\n"
          ]
        },
        {
          "name": "stdout",
          "output_type": "stream",
          "text": [
            "Epoch 4/5\n",
            "Train Loss: 0.0100\n",
            "Val Loss: 0.0098\n",
            "Val Accuracy: 0.6110\n",
            "\n"
          ]
        },
        {
          "name": "stderr",
          "output_type": "stream",
          "text": [
            "Epoch 5/5: 100%|██████████| 63/63 [00:19<00:00,  3.25it/s]\n",
            " 56%|█████▌    | 5/9 [08:57<07:11, 107.85s/it]"
          ]
        },
        {
          "name": "stdout",
          "output_type": "stream",
          "text": [
            "Epoch 5/5\n",
            "Train Loss: 0.0097\n",
            "Val Loss: 0.0097\n",
            "Val Accuracy: 0.5970\n",
            "\n",
            "[0.010683472067117691, 0.01046749660372734, 0.010293056026101113, 0.010009541884064674, 0.009714574366807938] [0.010648124456405639, 0.01049477607011795, 0.010143289148807525, 0.009791253238916397, 0.009699691593647003]\n"
          ]
        },
        {
          "name": "stderr",
          "output_type": "stream",
          "text": [
            "Epoch 1/5: 100%|██████████| 63/63 [00:19<00:00,  3.26it/s]\n"
          ]
        },
        {
          "name": "stdout",
          "output_type": "stream",
          "text": [
            "Epoch 1/5\n",
            "Train Loss: 0.0110\n",
            "Val Loss: 0.0108\n",
            "Val Accuracy: 0.6010\n",
            "\n"
          ]
        },
        {
          "name": "stderr",
          "output_type": "stream",
          "text": [
            "Epoch 2/5: 100%|██████████| 63/63 [00:19<00:00,  3.28it/s]\n"
          ]
        },
        {
          "name": "stdout",
          "output_type": "stream",
          "text": [
            "Epoch 2/5\n",
            "Train Loss: 0.0104\n",
            "Val Loss: 0.0103\n",
            "Val Accuracy: 0.6040\n",
            "\n"
          ]
        },
        {
          "name": "stderr",
          "output_type": "stream",
          "text": [
            "Epoch 3/5: 100%|██████████| 63/63 [00:19<00:00,  3.28it/s]\n"
          ]
        },
        {
          "name": "stdout",
          "output_type": "stream",
          "text": [
            "Epoch 3/5\n",
            "Train Loss: 0.0097\n",
            "Val Loss: 0.0095\n",
            "Val Accuracy: 0.6040\n",
            "\n"
          ]
        },
        {
          "name": "stderr",
          "output_type": "stream",
          "text": [
            "Epoch 4/5: 100%|██████████| 63/63 [00:19<00:00,  3.27it/s]\n"
          ]
        },
        {
          "name": "stdout",
          "output_type": "stream",
          "text": [
            "Epoch 4/5\n",
            "Train Loss: 0.0092\n",
            "Val Loss: 0.0091\n",
            "Val Accuracy: 0.6100\n",
            "\n"
          ]
        },
        {
          "name": "stderr",
          "output_type": "stream",
          "text": [
            "Epoch 5/5: 100%|██████████| 63/63 [00:19<00:00,  3.25it/s]\n",
            " 67%|██████▋   | 6/9 [10:46<05:24, 108.04s/it]"
          ]
        },
        {
          "name": "stdout",
          "output_type": "stream",
          "text": [
            "Epoch 5/5\n",
            "Train Loss: 0.0089\n",
            "Val Loss: 0.0089\n",
            "Val Accuracy: 0.7090\n",
            "\n",
            "[0.010964478060603142, 0.010378049999475478, 0.00974405100941658, 0.009241318807005882, 0.008913867034018039] [0.010771469473838806, 0.01026166445016861, 0.009535489976406098, 0.00908007487654686, 0.00893262618780136]\n"
          ]
        },
        {
          "name": "stderr",
          "output_type": "stream",
          "text": [
            "Epoch 1/5: 100%|██████████| 63/63 [00:23<00:00,  2.63it/s]\n"
          ]
        },
        {
          "name": "stdout",
          "output_type": "stream",
          "text": [
            "Epoch 1/5\n",
            "Train Loss: 0.0111\n",
            "Val Loss: 0.0111\n",
            "Val Accuracy: 0.5250\n",
            "\n"
          ]
        },
        {
          "name": "stderr",
          "output_type": "stream",
          "text": [
            "Epoch 2/5: 100%|██████████| 63/63 [00:23<00:00,  2.64it/s]\n"
          ]
        },
        {
          "name": "stdout",
          "output_type": "stream",
          "text": [
            "Epoch 2/5\n",
            "Train Loss: 0.0108\n",
            "Val Loss: 0.0108\n",
            "Val Accuracy: 0.5750\n",
            "\n"
          ]
        },
        {
          "name": "stderr",
          "output_type": "stream",
          "text": [
            "Epoch 3/5: 100%|██████████| 63/63 [00:24<00:00,  2.62it/s]\n"
          ]
        },
        {
          "name": "stdout",
          "output_type": "stream",
          "text": [
            "Epoch 3/5\n",
            "Train Loss: 0.0108\n",
            "Val Loss: 0.0110\n",
            "Val Accuracy: 0.5220\n",
            "\n"
          ]
        },
        {
          "name": "stderr",
          "output_type": "stream",
          "text": [
            "Epoch 4/5: 100%|██████████| 63/63 [00:23<00:00,  2.64it/s]\n"
          ]
        },
        {
          "name": "stdout",
          "output_type": "stream",
          "text": [
            "Epoch 4/5\n",
            "Train Loss: 0.0106\n",
            "Val Loss: 0.0109\n",
            "Val Accuracy: 0.5590\n",
            "\n"
          ]
        },
        {
          "name": "stderr",
          "output_type": "stream",
          "text": [
            "Epoch 5/5: 100%|██████████| 63/63 [00:23<00:00,  2.64it/s]\n",
            " 78%|███████▊  | 7/9 [12:57<03:51, 115.56s/it]"
          ]
        },
        {
          "name": "stdout",
          "output_type": "stream",
          "text": [
            "Epoch 5/5\n",
            "Train Loss: 0.0105\n",
            "Val Loss: 0.0106\n",
            "Val Accuracy: 0.5840\n",
            "\n",
            "[0.011120173797011376, 0.010843160673975944, 0.010757739245891572, 0.01064322279393673, 0.010482591554522514] [0.011099088311195373, 0.010807191669940949, 0.010952424049377442, 0.01093300187587738, 0.010573700487613679]\n"
          ]
        },
        {
          "name": "stderr",
          "output_type": "stream",
          "text": [
            "Epoch 1/5: 100%|██████████| 63/63 [00:24<00:00,  2.61it/s]\n"
          ]
        },
        {
          "name": "stdout",
          "output_type": "stream",
          "text": [
            "Epoch 1/5\n",
            "Train Loss: 0.0111\n",
            "Val Loss: 0.0112\n",
            "Val Accuracy: 0.4840\n",
            "\n"
          ]
        },
        {
          "name": "stderr",
          "output_type": "stream",
          "text": [
            "Epoch 2/5: 100%|██████████| 63/63 [00:23<00:00,  2.63it/s]\n"
          ]
        },
        {
          "name": "stdout",
          "output_type": "stream",
          "text": [
            "Epoch 2/5\n",
            "Train Loss: 0.0108\n",
            "Val Loss: 0.0109\n",
            "Val Accuracy: 0.5420\n",
            "\n"
          ]
        },
        {
          "name": "stderr",
          "output_type": "stream",
          "text": [
            "Epoch 3/5: 100%|██████████| 63/63 [00:23<00:00,  2.63it/s]\n"
          ]
        },
        {
          "name": "stdout",
          "output_type": "stream",
          "text": [
            "Epoch 3/5\n",
            "Train Loss: 0.0106\n",
            "Val Loss: 0.0105\n",
            "Val Accuracy: 0.5650\n",
            "\n"
          ]
        },
        {
          "name": "stderr",
          "output_type": "stream",
          "text": [
            "Epoch 4/5: 100%|██████████| 63/63 [00:23<00:00,  2.63it/s]\n"
          ]
        },
        {
          "name": "stdout",
          "output_type": "stream",
          "text": [
            "Epoch 4/5\n",
            "Train Loss: 0.0102\n",
            "Val Loss: 0.0100\n",
            "Val Accuracy: 0.5980\n",
            "\n"
          ]
        },
        {
          "name": "stderr",
          "output_type": "stream",
          "text": [
            "Epoch 5/5: 100%|██████████| 63/63 [00:24<00:00,  2.61it/s]\n",
            " 89%|████████▉ | 8/9 [15:09<02:00, 120.73s/it]"
          ]
        },
        {
          "name": "stdout",
          "output_type": "stream",
          "text": [
            "Epoch 5/5\n",
            "Train Loss: 0.0098\n",
            "Val Loss: 0.0096\n",
            "Val Accuracy: 0.6040\n",
            "\n",
            "[0.011061470597982407, 0.010849352806806564, 0.010565534263849258, 0.010159140884876251, 0.009763664096593856] [0.01123446375131607, 0.010873912513256073, 0.010521051347255707, 0.010001606583595276, 0.00962224006652832]\n"
          ]
        },
        {
          "name": "stderr",
          "output_type": "stream",
          "text": [
            "Epoch 1/5: 100%|██████████| 63/63 [00:23<00:00,  2.63it/s]\n"
          ]
        },
        {
          "name": "stdout",
          "output_type": "stream",
          "text": [
            "Epoch 1/5\n",
            "Train Loss: 0.0106\n",
            "Val Loss: 0.0105\n",
            "Val Accuracy: 0.6010\n",
            "\n"
          ]
        },
        {
          "name": "stderr",
          "output_type": "stream",
          "text": [
            "Epoch 2/5: 100%|██████████| 63/63 [00:23<00:00,  2.63it/s]\n"
          ]
        },
        {
          "name": "stdout",
          "output_type": "stream",
          "text": [
            "Epoch 2/5\n",
            "Train Loss: 0.0099\n",
            "Val Loss: 0.0094\n",
            "Val Accuracy: 0.6040\n",
            "\n"
          ]
        },
        {
          "name": "stderr",
          "output_type": "stream",
          "text": [
            "Epoch 3/5: 100%|██████████| 63/63 [00:23<00:00,  2.63it/s]\n"
          ]
        },
        {
          "name": "stdout",
          "output_type": "stream",
          "text": [
            "Epoch 3/5\n",
            "Train Loss: 0.0093\n",
            "Val Loss: 0.0090\n",
            "Val Accuracy: 0.6040\n",
            "\n"
          ]
        },
        {
          "name": "stderr",
          "output_type": "stream",
          "text": [
            "Epoch 4/5: 100%|██████████| 63/63 [00:23<00:00,  2.63it/s]\n"
          ]
        },
        {
          "name": "stdout",
          "output_type": "stream",
          "text": [
            "Epoch 4/5\n",
            "Train Loss: 0.0088\n",
            "Val Loss: 0.0093\n",
            "Val Accuracy: 0.7390\n",
            "\n"
          ]
        },
        {
          "name": "stderr",
          "output_type": "stream",
          "text": [
            "Epoch 5/5: 100%|██████████| 63/63 [00:23<00:00,  2.64it/s]\n",
            "100%|██████████| 9/9 [17:20<00:00, 115.61s/it]"
          ]
        },
        {
          "name": "stdout",
          "output_type": "stream",
          "text": [
            "Epoch 5/5\n",
            "Train Loss: 0.0086\n",
            "Val Loss: 0.0087\n",
            "Val Accuracy: 0.7250\n",
            "\n",
            "[0.010597503304481507, 0.009862590283155441, 0.009313487455248832, 0.008825076036155224, 0.008648186326026916] [0.010468877255916595, 0.009409165501594544, 0.009038580864667892, 0.009348765909671784, 0.008692741900682449]\n"
          ]
        },
        {
          "name": "stderr",
          "output_type": "stream",
          "text": [
            "\n"
          ]
        }
      ],
      "source": [
        "\n",
        "param_grid = {\n",
        "    'lr': [5e-5, 1e-4, 3e-4],\n",
        "    'kernel_size': [1, 3, 5],\n",
        "    'stride': [1],\n",
        "\n",
        "}\n",
        "deep_conv_results = grid_search(ConvNetDeep, param_grid, train_loader, test_loader)"
      ]
    },
    {
      "cell_type": "code",
      "execution_count": null,
      "metadata": {},
      "outputs": [],
      "source": []
    },
    {
      "cell_type": "markdown",
      "metadata": {
        "id": "gK_uD0V9sYET"
      },
      "source": [
        "# Results"
      ]
    },
    {
      "attachments": {},
      "cell_type": "markdown",
      "metadata": {},
      "source": [
        "Looks like we have found our optimal parameters, lets train this with 50 epochs and compare against the untuned version"
      ]
    },
    {
      "cell_type": "code",
      "execution_count": 44,
      "metadata": {
        "id": "BcYsZNXisb0n"
      },
      "outputs": [
        {
          "name": "stdout",
          "output_type": "stream",
          "text": [
            "{'kernel_size': 5, 'lr': 0.0001, 'stride': 1, 'val_accuracy': [0.01123446375131607, 0.010873912513256073, 0.010521051347255707, 0.010001606583595276, 0.00962224006652832]}\n"
          ]
        }
      ],
      "source": [
        "\n",
        "best_deep_conv_results = sorted(deep_conv_results, key=lambda x: x['val_accuracy'], reverse=True)[0]\n",
        "print(best_deep_conv_results)"
      ]
    },
    {
      "attachments": {},
      "cell_type": "markdown",
      "metadata": {},
      "source": [
        "### Training tuned deep model on 50 epochs"
      ]
    },
    {
      "cell_type": "code",
      "execution_count": 45,
      "metadata": {},
      "outputs": [
        {
          "name": "stderr",
          "output_type": "stream",
          "text": [
            "Epoch 1/50: 100%|██████████| 63/63 [00:24<00:00,  2.62it/s]\n"
          ]
        },
        {
          "name": "stdout",
          "output_type": "stream",
          "text": [
            "Epoch 1/50\n",
            "Train Loss: 0.0109\n",
            "Val Loss: 0.0109\n",
            "Val Accuracy: 0.5460\n",
            "\n"
          ]
        },
        {
          "name": "stderr",
          "output_type": "stream",
          "text": [
            "Epoch 2/50: 100%|██████████| 63/63 [00:24<00:00,  2.61it/s]\n"
          ]
        },
        {
          "name": "stdout",
          "output_type": "stream",
          "text": [
            "Epoch 2/50\n",
            "Train Loss: 0.0104\n",
            "Val Loss: 0.0107\n",
            "Val Accuracy: 0.5500\n",
            "\n"
          ]
        },
        {
          "name": "stderr",
          "output_type": "stream",
          "text": [
            "Epoch 3/50: 100%|██████████| 63/63 [00:24<00:00,  2.59it/s]\n"
          ]
        },
        {
          "name": "stdout",
          "output_type": "stream",
          "text": [
            "Epoch 3/50\n",
            "Train Loss: 0.0103\n",
            "Val Loss: 0.0102\n",
            "Val Accuracy: 0.6030\n",
            "\n"
          ]
        },
        {
          "name": "stderr",
          "output_type": "stream",
          "text": [
            "Epoch 4/50: 100%|██████████| 63/63 [00:24<00:00,  2.61it/s]\n"
          ]
        },
        {
          "name": "stdout",
          "output_type": "stream",
          "text": [
            "Epoch 4/50\n",
            "Train Loss: 0.0099\n",
            "Val Loss: 0.0101\n",
            "Val Accuracy: 0.5970\n",
            "\n"
          ]
        },
        {
          "name": "stderr",
          "output_type": "stream",
          "text": [
            "Epoch 5/50: 100%|██████████| 63/63 [00:24<00:00,  2.58it/s]\n"
          ]
        },
        {
          "name": "stdout",
          "output_type": "stream",
          "text": [
            "Epoch 5/50\n",
            "Train Loss: 0.0096\n",
            "Val Loss: 0.0098\n",
            "Val Accuracy: 0.6050\n",
            "\n"
          ]
        },
        {
          "name": "stderr",
          "output_type": "stream",
          "text": [
            "Epoch 6/50: 100%|██████████| 63/63 [00:24<00:00,  2.62it/s]\n"
          ]
        },
        {
          "name": "stdout",
          "output_type": "stream",
          "text": [
            "Epoch 6/50\n",
            "Train Loss: 0.0093\n",
            "Val Loss: 0.0093\n",
            "Val Accuracy: 0.6040\n",
            "\n"
          ]
        },
        {
          "name": "stderr",
          "output_type": "stream",
          "text": [
            "Epoch 7/50: 100%|██████████| 63/63 [00:24<00:00,  2.61it/s]\n"
          ]
        },
        {
          "name": "stdout",
          "output_type": "stream",
          "text": [
            "Epoch 7/50\n",
            "Train Loss: 0.0090\n",
            "Val Loss: 0.0089\n",
            "Val Accuracy: 0.6040\n",
            "\n"
          ]
        },
        {
          "name": "stderr",
          "output_type": "stream",
          "text": [
            "Epoch 8/50: 100%|██████████| 63/63 [00:24<00:00,  2.61it/s]\n"
          ]
        },
        {
          "name": "stdout",
          "output_type": "stream",
          "text": [
            "Epoch 8/50\n",
            "Train Loss: 0.0089\n",
            "Val Loss: 0.0091\n",
            "Val Accuracy: 0.6040\n",
            "\n"
          ]
        },
        {
          "name": "stderr",
          "output_type": "stream",
          "text": [
            "Epoch 9/50: 100%|██████████| 63/63 [00:24<00:00,  2.61it/s]\n"
          ]
        },
        {
          "name": "stdout",
          "output_type": "stream",
          "text": [
            "Epoch 9/50\n",
            "Train Loss: 0.0089\n",
            "Val Loss: 0.0090\n",
            "Val Accuracy: 0.6040\n",
            "\n"
          ]
        },
        {
          "name": "stderr",
          "output_type": "stream",
          "text": [
            "Epoch 10/50: 100%|██████████| 63/63 [00:24<00:00,  2.61it/s]\n"
          ]
        },
        {
          "name": "stdout",
          "output_type": "stream",
          "text": [
            "Epoch 10/50\n",
            "Train Loss: 0.0089\n",
            "Val Loss: 0.0089\n",
            "Val Accuracy: 0.6040\n",
            "\n"
          ]
        },
        {
          "name": "stderr",
          "output_type": "stream",
          "text": [
            "Epoch 11/50: 100%|██████████| 63/63 [00:24<00:00,  2.61it/s]\n"
          ]
        },
        {
          "name": "stdout",
          "output_type": "stream",
          "text": [
            "Epoch 11/50\n",
            "Train Loss: 0.0087\n",
            "Val Loss: 0.0087\n",
            "Val Accuracy: 0.6040\n",
            "\n"
          ]
        },
        {
          "name": "stderr",
          "output_type": "stream",
          "text": [
            "Epoch 12/50: 100%|██████████| 63/63 [00:24<00:00,  2.59it/s]\n"
          ]
        },
        {
          "name": "stdout",
          "output_type": "stream",
          "text": [
            "Epoch 12/50\n",
            "Train Loss: 0.0087\n",
            "Val Loss: 0.0088\n",
            "Val Accuracy: 0.6040\n",
            "\n"
          ]
        },
        {
          "name": "stderr",
          "output_type": "stream",
          "text": [
            "Epoch 13/50: 100%|██████████| 63/63 [00:23<00:00,  2.63it/s]\n"
          ]
        },
        {
          "name": "stdout",
          "output_type": "stream",
          "text": [
            "Epoch 13/50\n",
            "Train Loss: 0.0088\n",
            "Val Loss: 0.0087\n",
            "Val Accuracy: 0.6040\n",
            "\n"
          ]
        },
        {
          "name": "stderr",
          "output_type": "stream",
          "text": [
            "Epoch 14/50: 100%|██████████| 63/63 [00:24<00:00,  2.58it/s]\n"
          ]
        },
        {
          "name": "stdout",
          "output_type": "stream",
          "text": [
            "Epoch 14/50\n",
            "Train Loss: 0.0086\n",
            "Val Loss: 0.0089\n",
            "Val Accuracy: 0.7160\n",
            "\n"
          ]
        },
        {
          "name": "stderr",
          "output_type": "stream",
          "text": [
            "Epoch 15/50: 100%|██████████| 63/63 [00:24<00:00,  2.62it/s]\n"
          ]
        },
        {
          "name": "stdout",
          "output_type": "stream",
          "text": [
            "Epoch 15/50\n",
            "Train Loss: 0.0085\n",
            "Val Loss: 0.0087\n",
            "Val Accuracy: 0.7290\n",
            "\n"
          ]
        },
        {
          "name": "stderr",
          "output_type": "stream",
          "text": [
            "Epoch 16/50: 100%|██████████| 63/63 [00:24<00:00,  2.62it/s]\n"
          ]
        },
        {
          "name": "stdout",
          "output_type": "stream",
          "text": [
            "Epoch 16/50\n",
            "Train Loss: 0.0085\n",
            "Val Loss: 0.0088\n",
            "Val Accuracy: 0.7430\n",
            "\n"
          ]
        },
        {
          "name": "stderr",
          "output_type": "stream",
          "text": [
            "Epoch 17/50: 100%|██████████| 63/63 [00:24<00:00,  2.59it/s]\n"
          ]
        },
        {
          "name": "stdout",
          "output_type": "stream",
          "text": [
            "Epoch 17/50\n",
            "Train Loss: 0.0085\n",
            "Val Loss: 0.0089\n",
            "Val Accuracy: 0.7380\n",
            "\n"
          ]
        },
        {
          "name": "stderr",
          "output_type": "stream",
          "text": [
            "Epoch 18/50: 100%|██████████| 63/63 [00:24<00:00,  2.60it/s]\n"
          ]
        },
        {
          "name": "stdout",
          "output_type": "stream",
          "text": [
            "Epoch 18/50\n",
            "Train Loss: 0.0083\n",
            "Val Loss: 0.0087\n",
            "Val Accuracy: 0.7160\n",
            "\n"
          ]
        },
        {
          "name": "stderr",
          "output_type": "stream",
          "text": [
            "Epoch 19/50: 100%|██████████| 63/63 [00:24<00:00,  2.58it/s]\n"
          ]
        },
        {
          "name": "stdout",
          "output_type": "stream",
          "text": [
            "Epoch 19/50\n",
            "Train Loss: 0.0084\n",
            "Val Loss: 0.0085\n",
            "Val Accuracy: 0.7560\n",
            "\n"
          ]
        },
        {
          "name": "stderr",
          "output_type": "stream",
          "text": [
            "Epoch 20/50: 100%|██████████| 63/63 [00:24<00:00,  2.62it/s]\n"
          ]
        },
        {
          "name": "stdout",
          "output_type": "stream",
          "text": [
            "Epoch 20/50\n",
            "Train Loss: 0.0084\n",
            "Val Loss: 0.0085\n",
            "Val Accuracy: 0.7500\n",
            "\n"
          ]
        },
        {
          "name": "stderr",
          "output_type": "stream",
          "text": [
            "Epoch 21/50: 100%|██████████| 63/63 [00:24<00:00,  2.58it/s]\n"
          ]
        },
        {
          "name": "stdout",
          "output_type": "stream",
          "text": [
            "Epoch 21/50\n",
            "Train Loss: 0.0082\n",
            "Val Loss: 0.0084\n",
            "Val Accuracy: 0.7480\n",
            "\n"
          ]
        },
        {
          "name": "stderr",
          "output_type": "stream",
          "text": [
            "Epoch 22/50: 100%|██████████| 63/63 [00:24<00:00,  2.60it/s]\n"
          ]
        },
        {
          "name": "stdout",
          "output_type": "stream",
          "text": [
            "Epoch 22/50\n",
            "Train Loss: 0.0082\n",
            "Val Loss: 0.0084\n",
            "Val Accuracy: 0.7640\n",
            "\n"
          ]
        },
        {
          "name": "stderr",
          "output_type": "stream",
          "text": [
            "Epoch 23/50: 100%|██████████| 63/63 [00:24<00:00,  2.59it/s]\n"
          ]
        },
        {
          "name": "stdout",
          "output_type": "stream",
          "text": [
            "Epoch 23/50\n",
            "Train Loss: 0.0083\n",
            "Val Loss: 0.0083\n",
            "Val Accuracy: 0.7690\n",
            "\n"
          ]
        },
        {
          "name": "stderr",
          "output_type": "stream",
          "text": [
            "Epoch 24/50: 100%|██████████| 63/63 [00:24<00:00,  2.62it/s]\n"
          ]
        },
        {
          "name": "stdout",
          "output_type": "stream",
          "text": [
            "Epoch 24/50\n",
            "Train Loss: 0.0083\n",
            "Val Loss: 0.0087\n",
            "Val Accuracy: 0.7620\n",
            "\n"
          ]
        },
        {
          "name": "stderr",
          "output_type": "stream",
          "text": [
            "Epoch 25/50: 100%|██████████| 63/63 [00:24<00:00,  2.62it/s]\n"
          ]
        },
        {
          "name": "stdout",
          "output_type": "stream",
          "text": [
            "Epoch 25/50\n",
            "Train Loss: 0.0082\n",
            "Val Loss: 0.0087\n",
            "Val Accuracy: 0.7800\n",
            "\n"
          ]
        },
        {
          "name": "stderr",
          "output_type": "stream",
          "text": [
            "Epoch 26/50: 100%|██████████| 63/63 [00:24<00:00,  2.62it/s]\n"
          ]
        },
        {
          "name": "stdout",
          "output_type": "stream",
          "text": [
            "Epoch 26/50\n",
            "Train Loss: 0.0081\n",
            "Val Loss: 0.0080\n",
            "Val Accuracy: 0.7840\n",
            "\n"
          ]
        },
        {
          "name": "stderr",
          "output_type": "stream",
          "text": [
            "Epoch 27/50: 100%|██████████| 63/63 [00:24<00:00,  2.61it/s]\n"
          ]
        },
        {
          "name": "stdout",
          "output_type": "stream",
          "text": [
            "Epoch 27/50\n",
            "Train Loss: 0.0081\n",
            "Val Loss: 0.0081\n",
            "Val Accuracy: 0.7510\n",
            "\n"
          ]
        },
        {
          "name": "stderr",
          "output_type": "stream",
          "text": [
            "Epoch 28/50: 100%|██████████| 63/63 [00:24<00:00,  2.59it/s]\n"
          ]
        },
        {
          "name": "stdout",
          "output_type": "stream",
          "text": [
            "Epoch 28/50\n",
            "Train Loss: 0.0080\n",
            "Val Loss: 0.0083\n",
            "Val Accuracy: 0.7550\n",
            "\n"
          ]
        },
        {
          "name": "stderr",
          "output_type": "stream",
          "text": [
            "Epoch 29/50: 100%|██████████| 63/63 [00:24<00:00,  2.60it/s]\n"
          ]
        },
        {
          "name": "stdout",
          "output_type": "stream",
          "text": [
            "Epoch 29/50\n",
            "Train Loss: 0.0080\n",
            "Val Loss: 0.0082\n",
            "Val Accuracy: 0.7780\n",
            "\n"
          ]
        },
        {
          "name": "stderr",
          "output_type": "stream",
          "text": [
            "Epoch 30/50: 100%|██████████| 63/63 [00:24<00:00,  2.61it/s]\n"
          ]
        },
        {
          "name": "stdout",
          "output_type": "stream",
          "text": [
            "Epoch 30/50\n",
            "Train Loss: 0.0080\n",
            "Val Loss: 0.0079\n",
            "Val Accuracy: 0.7850\n",
            "\n"
          ]
        },
        {
          "name": "stderr",
          "output_type": "stream",
          "text": [
            "Epoch 31/50: 100%|██████████| 63/63 [00:24<00:00,  2.61it/s]\n"
          ]
        },
        {
          "name": "stdout",
          "output_type": "stream",
          "text": [
            "Epoch 31/50\n",
            "Train Loss: 0.0080\n",
            "Val Loss: 0.0080\n",
            "Val Accuracy: 0.7780\n",
            "\n"
          ]
        },
        {
          "name": "stderr",
          "output_type": "stream",
          "text": [
            "Epoch 32/50: 100%|██████████| 63/63 [00:24<00:00,  2.59it/s]\n"
          ]
        },
        {
          "name": "stdout",
          "output_type": "stream",
          "text": [
            "Epoch 32/50\n",
            "Train Loss: 0.0079\n",
            "Val Loss: 0.0080\n",
            "Val Accuracy: 0.7840\n",
            "\n"
          ]
        },
        {
          "name": "stderr",
          "output_type": "stream",
          "text": [
            "Epoch 33/50: 100%|██████████| 63/63 [00:24<00:00,  2.62it/s]\n"
          ]
        },
        {
          "name": "stdout",
          "output_type": "stream",
          "text": [
            "Epoch 33/50\n",
            "Train Loss: 0.0080\n",
            "Val Loss: 0.0079\n",
            "Val Accuracy: 0.7900\n",
            "\n"
          ]
        },
        {
          "name": "stderr",
          "output_type": "stream",
          "text": [
            "Epoch 34/50: 100%|██████████| 63/63 [00:24<00:00,  2.62it/s]\n"
          ]
        },
        {
          "name": "stdout",
          "output_type": "stream",
          "text": [
            "Epoch 34/50\n",
            "Train Loss: 0.0079\n",
            "Val Loss: 0.0078\n",
            "Val Accuracy: 0.7850\n",
            "\n"
          ]
        },
        {
          "name": "stderr",
          "output_type": "stream",
          "text": [
            "Epoch 35/50: 100%|██████████| 63/63 [00:24<00:00,  2.59it/s]\n"
          ]
        },
        {
          "name": "stdout",
          "output_type": "stream",
          "text": [
            "Epoch 35/50\n",
            "Train Loss: 0.0078\n",
            "Val Loss: 0.0079\n",
            "Val Accuracy: 0.7680\n",
            "\n"
          ]
        },
        {
          "name": "stderr",
          "output_type": "stream",
          "text": [
            "Epoch 36/50: 100%|██████████| 63/63 [00:24<00:00,  2.59it/s]\n"
          ]
        },
        {
          "name": "stdout",
          "output_type": "stream",
          "text": [
            "Epoch 36/50\n",
            "Train Loss: 0.0079\n",
            "Val Loss: 0.0077\n",
            "Val Accuracy: 0.7830\n",
            "\n"
          ]
        },
        {
          "name": "stderr",
          "output_type": "stream",
          "text": [
            "Epoch 37/50: 100%|██████████| 63/63 [00:24<00:00,  2.60it/s]\n"
          ]
        },
        {
          "name": "stdout",
          "output_type": "stream",
          "text": [
            "Epoch 37/50\n",
            "Train Loss: 0.0079\n",
            "Val Loss: 0.0083\n",
            "Val Accuracy: 0.7680\n",
            "\n"
          ]
        },
        {
          "name": "stderr",
          "output_type": "stream",
          "text": [
            "Epoch 38/50: 100%|██████████| 63/63 [00:24<00:00,  2.59it/s]\n"
          ]
        },
        {
          "name": "stdout",
          "output_type": "stream",
          "text": [
            "Epoch 38/50\n",
            "Train Loss: 0.0077\n",
            "Val Loss: 0.0078\n",
            "Val Accuracy: 0.7780\n",
            "\n"
          ]
        },
        {
          "name": "stderr",
          "output_type": "stream",
          "text": [
            "Epoch 39/50: 100%|██████████| 63/63 [00:24<00:00,  2.58it/s]\n"
          ]
        },
        {
          "name": "stdout",
          "output_type": "stream",
          "text": [
            "Epoch 39/50\n",
            "Train Loss: 0.0077\n",
            "Val Loss: 0.0080\n",
            "Val Accuracy: 0.7930\n",
            "\n"
          ]
        },
        {
          "name": "stderr",
          "output_type": "stream",
          "text": [
            "Epoch 40/50: 100%|██████████| 63/63 [00:29<00:00,  2.10it/s]\n"
          ]
        },
        {
          "name": "stdout",
          "output_type": "stream",
          "text": [
            "Epoch 40/50\n",
            "Train Loss: 0.0077\n",
            "Val Loss: 0.0077\n",
            "Val Accuracy: 0.7900\n",
            "\n"
          ]
        },
        {
          "name": "stderr",
          "output_type": "stream",
          "text": [
            "Epoch 41/50: 100%|██████████| 63/63 [00:27<00:00,  2.32it/s]\n"
          ]
        },
        {
          "name": "stdout",
          "output_type": "stream",
          "text": [
            "Epoch 41/50\n",
            "Train Loss: 0.0076\n",
            "Val Loss: 0.0076\n",
            "Val Accuracy: 0.7940\n",
            "\n"
          ]
        },
        {
          "name": "stderr",
          "output_type": "stream",
          "text": [
            "Epoch 42/50: 100%|██████████| 63/63 [00:25<00:00,  2.52it/s]\n"
          ]
        },
        {
          "name": "stdout",
          "output_type": "stream",
          "text": [
            "Epoch 42/50\n",
            "Train Loss: 0.0077\n",
            "Val Loss: 0.0076\n",
            "Val Accuracy: 0.8080\n",
            "\n"
          ]
        },
        {
          "name": "stderr",
          "output_type": "stream",
          "text": [
            "Epoch 43/50: 100%|██████████| 63/63 [00:24<00:00,  2.55it/s]\n"
          ]
        },
        {
          "name": "stdout",
          "output_type": "stream",
          "text": [
            "Epoch 43/50\n",
            "Train Loss: 0.0075\n",
            "Val Loss: 0.0075\n",
            "Val Accuracy: 0.8060\n",
            "\n"
          ]
        },
        {
          "name": "stderr",
          "output_type": "stream",
          "text": [
            "Epoch 44/50: 100%|██████████| 63/63 [00:24<00:00,  2.55it/s]\n"
          ]
        },
        {
          "name": "stdout",
          "output_type": "stream",
          "text": [
            "Epoch 44/50\n",
            "Train Loss: 0.0075\n",
            "Val Loss: 0.0077\n",
            "Val Accuracy: 0.7890\n",
            "\n"
          ]
        },
        {
          "name": "stderr",
          "output_type": "stream",
          "text": [
            "Epoch 45/50: 100%|██████████| 63/63 [00:24<00:00,  2.53it/s]\n"
          ]
        },
        {
          "name": "stdout",
          "output_type": "stream",
          "text": [
            "Epoch 45/50\n",
            "Train Loss: 0.0075\n",
            "Val Loss: 0.0076\n",
            "Val Accuracy: 0.8000\n",
            "\n"
          ]
        },
        {
          "name": "stderr",
          "output_type": "stream",
          "text": [
            "Epoch 46/50: 100%|██████████| 63/63 [00:24<00:00,  2.53it/s]\n"
          ]
        },
        {
          "name": "stdout",
          "output_type": "stream",
          "text": [
            "Epoch 46/50\n",
            "Train Loss: 0.0075\n",
            "Val Loss: 0.0076\n",
            "Val Accuracy: 0.8070\n",
            "\n"
          ]
        },
        {
          "name": "stderr",
          "output_type": "stream",
          "text": [
            "Epoch 47/50: 100%|██████████| 63/63 [00:24<00:00,  2.55it/s]\n"
          ]
        },
        {
          "name": "stdout",
          "output_type": "stream",
          "text": [
            "Epoch 47/50\n",
            "Train Loss: 0.0075\n",
            "Val Loss: 0.0075\n",
            "Val Accuracy: 0.8200\n",
            "\n"
          ]
        },
        {
          "name": "stderr",
          "output_type": "stream",
          "text": [
            "Epoch 48/50: 100%|██████████| 63/63 [00:24<00:00,  2.55it/s]\n"
          ]
        },
        {
          "name": "stdout",
          "output_type": "stream",
          "text": [
            "Epoch 48/50\n",
            "Train Loss: 0.0074\n",
            "Val Loss: 0.0076\n",
            "Val Accuracy: 0.8040\n",
            "\n"
          ]
        },
        {
          "name": "stderr",
          "output_type": "stream",
          "text": [
            "Epoch 49/50: 100%|██████████| 63/63 [00:24<00:00,  2.52it/s]\n"
          ]
        },
        {
          "name": "stdout",
          "output_type": "stream",
          "text": [
            "Epoch 49/50\n",
            "Train Loss: 0.0074\n",
            "Val Loss: 0.0077\n",
            "Val Accuracy: 0.8130\n",
            "\n"
          ]
        },
        {
          "name": "stderr",
          "output_type": "stream",
          "text": [
            "Epoch 50/50: 100%|██████████| 63/63 [00:24<00:00,  2.54it/s]\n"
          ]
        },
        {
          "name": "stdout",
          "output_type": "stream",
          "text": [
            "Epoch 50/50\n",
            "Train Loss: 0.0074\n",
            "Val Loss: 0.0076\n",
            "Val Accuracy: 0.8020\n",
            "\n",
            "[0.010856732755899429, 0.010402268782258034, 0.010285444930195809, 0.009935783967375756, 0.009550063461065293, 0.009297353059053421, 0.009037596493959427, 0.008875595360994339, 0.008860278338193894, 0.008877849593758582, 0.008714642882347107, 0.008687684088945389, 0.008798173271119595, 0.008637788340449332, 0.008544366702437401, 0.008491762340068817, 0.008486429378390312, 0.00832680381834507, 0.00843832165747881, 0.008355627708137036, 0.008234661519527436, 0.008249426782131196, 0.008280071645975114, 0.00826654253154993, 0.008170768119394779, 0.008101293973624706, 0.008115052931010723, 0.008028375774621963, 0.008007556542754174, 0.007984963685274123, 0.008033980980515481, 0.007914404906332493, 0.007952124595642089, 0.007902365140616895, 0.007841516345739364, 0.007857268877327442, 0.007879081159830093, 0.007739050343632698, 0.007664609029889107, 0.007745704501867294, 0.0075944667980074885, 0.007650569774210453, 0.007542030461132526, 0.007549667552113533, 0.007546110957860947, 0.007470976017415524, 0.0074684606865048405, 0.0074489362761378285, 0.007354696415364743, 0.007424001812934875] [0.010858288526535035, 0.010723719656467437, 0.010172536969184876, 0.010059057414531707, 0.009799743235111237, 0.009271728038787843, 0.008919977575540543, 0.009089332342147828, 0.008962015748023987, 0.008858008831739426, 0.008732525974512101, 0.008779935032129288, 0.008716355085372924, 0.008936891734600067, 0.008746831089258195, 0.008795358270406723, 0.008908875405788422, 0.008705968916416168, 0.008543923318386078, 0.008520789176225662, 0.008439003556966782, 0.008377903193235397, 0.00832617887854576, 0.00867034301161766, 0.008705519199371337, 0.008046538919210434, 0.008135265499353408, 0.00831012922525406, 0.008174601376056672, 0.007927313059568406, 0.008016354262828826, 0.007982651114463807, 0.007899847120046615, 0.007813320755958557, 0.007881899297237396, 0.0077463556528091435, 0.008321094661951065, 0.007785079896450043, 0.007952332824468613, 0.00767183119058609, 0.007626702398061752, 0.00759553399682045, 0.007487832933664322, 0.007706122577190399, 0.007624103188514709, 0.007638638585805893, 0.007505700320005417, 0.007621862173080444, 0.007745046645402908, 0.007556753247976303]\n"
          ]
        }
      ],
      "source": [
        "\n",
        "\n",
        "best_deep_conv_model = ConvNetDeep(2, kernel_size=best_deep_conv_results['kernel_size'], stride=best_deep_conv_results['stride'])\n",
        "base_deep_learning_rate = best_deep_conv_results['lr']\n",
        "\n",
        "criterion = nn.CrossEntropyLoss()\n",
        "optimizer = optim.Adam(best_deep_conv_model.parameters(), lr=best_deep_conv_results['lr'])\n",
        "\n",
        "deep_model_loss_tuned = train_model(best_deep_conv_model, train_loader, test_loader, criterion, optimizer, num_epochs=50)"
      ]
    },
    {
      "attachments": {},
      "cell_type": "markdown",
      "metadata": {},
      "source": [
        "### Plot comparison between base model and deep model MSE"
      ]
    },
    {
      "attachments": {},
      "cell_type": "markdown",
      "metadata": {},
      "source": [
        "The tuned model seems to underperform the untuned model. However the validation loss has less variation than the untuned model, so we will go with the tuned model for our big training run, which uses all the available data."
      ]
    },
    {
      "cell_type": "code",
      "execution_count": 46,
      "metadata": {},
      "outputs": [
        {
          "name": "stderr",
          "output_type": "stream",
          "text": [
            "/tmp/ipykernel_322/1311558534.py:10: UserWarning: Matplotlib is currently using module://matplotlib_inline.backend_inline, which is a non-GUI backend, so cannot show the figure.\n",
            "  fig.show()\n"
          ]
        },
        {
          "data": {
            "image/png": "[encoded data removed]",
            "text/plain": [
              "<Figure size 640x480 with 1 Axes>"
            ]
          },
          "metadata": {},
          "output_type": "display_data"
        }
      ],
      "source": [
        "\n",
        "fig, ax = plt.subplots()\n",
        "ax.plot(deep_conv_net_loss[0], 'b-', label='Deep Model Training')\n",
        "ax.plot(deep_conv_net_loss[1], 'r-', label='Deep Model Validation')\n",
        "ax.plot(deep_model_loss_tuned[0], 'b--', label='Tuned Deep Model Training')\n",
        "ax.plot(deep_model_loss_tuned[1], 'r--', label='Tuned Deep Model Validation')\n",
        "ax.legend()\n",
        "plt.xlabel(\"Epoch\")\n",
        "plt.ylabel(\"Loss\")\n",
        "plt.title('Comparison Final Models')\n",
        "fig.show()"
      ]
    },
    {
      "attachments": {},
      "cell_type": "markdown",
      "metadata": {},
      "source": [
        "### Train on full dataset\n",
        "\n",
        "Now we will train on the entire dataset with the tuned deep CNN model. Since there is a lot more data to train on, we will reduce the epochs."
      ]
    },
    {
      "cell_type": "code",
      "execution_count": 53,
      "metadata": {},
      "outputs": [],
      "source": [
        "torch.cuda.empty_cache() "
      ]
    },
    {
      "cell_type": "code",
      "execution_count": 22,
      "metadata": {},
      "outputs": [
        {
          "name": "stderr",
          "output_type": "stream",
          "text": [
            "Epoch 1/6: 100%|██████████| 3095/3095 [43:12<00:00,  1.19it/s]\n"
          ]
        },
        {
          "name": "stdout",
          "output_type": "stream",
          "text": [
            "Epoch 1/6\n",
            "Train Loss: 0.0082\n",
            "Val Loss: 0.0072\n",
            "Val Accuracy: 0.8229\n",
            "\n"
          ]
        },
        {
          "name": "stderr",
          "output_type": "stream",
          "text": [
            "Epoch 2/6: 100%|██████████| 3095/3095 [33:40<00:00,  1.53it/s]\n"
          ]
        },
        {
          "name": "stdout",
          "output_type": "stream",
          "text": [
            "Epoch 2/6\n",
            "Train Loss: 0.0067\n",
            "Val Loss: 0.0064\n",
            "Val Accuracy: 0.8473\n",
            "\n"
          ]
        },
        {
          "name": "stderr",
          "output_type": "stream",
          "text": [
            "Epoch 3/6: 100%|██████████| 3095/3095 [32:26<00:00,  1.59it/s]\n"
          ]
        },
        {
          "name": "stdout",
          "output_type": "stream",
          "text": [
            "Epoch 3/6\n",
            "Train Loss: 0.0059\n",
            "Val Loss: 0.0058\n",
            "Val Accuracy: 0.8485\n",
            "\n"
          ]
        },
        {
          "name": "stderr",
          "output_type": "stream",
          "text": [
            "Epoch 4/6: 100%|██████████| 3095/3095 [31:47<00:00,  1.62it/s]\n"
          ]
        },
        {
          "name": "stdout",
          "output_type": "stream",
          "text": [
            "Epoch 4/6\n",
            "Train Loss: 0.0054\n",
            "Val Loss: 0.0050\n",
            "Val Accuracy: 0.8819\n",
            "\n"
          ]
        },
        {
          "name": "stderr",
          "output_type": "stream",
          "text": [
            "Epoch 5/6: 100%|██████████| 3095/3095 [30:17<00:00,  1.70it/s]\n"
          ]
        },
        {
          "name": "stdout",
          "output_type": "stream",
          "text": [
            "Epoch 5/6\n",
            "Train Loss: 0.0050\n",
            "Val Loss: 0.0047\n",
            "Val Accuracy: 0.8882\n",
            "\n"
          ]
        },
        {
          "name": "stderr",
          "output_type": "stream",
          "text": [
            "Epoch 6/6: 100%|██████████| 3095/3095 [27:50<00:00,  1.85it/s]\n"
          ]
        },
        {
          "name": "stdout",
          "output_type": "stream",
          "text": [
            "Epoch 6/6\n",
            "Train Loss: 0.0046\n",
            "Val Loss: 0.0043\n",
            "Val Accuracy: 0.8957\n",
            "\n",
            "[0.008224010495522308, 0.006737786608173294, 0.0059378266621537305, 0.005409097585513056, 0.004964942184221881, 0.004629203673588003] [0.007225736884243384, 0.00641866975419441, 0.005831668668864277, 0.004971888015033256, 0.004693497343615544, 0.004251201811180502]\n"
          ]
        }
      ],
      "source": [
        "\n",
        "from torch import optim\n",
        "best_deep_conv_model = ConvNetDeep(2, kernel_size=5, stride=1)\n",
        "best_deep_learning_rate = 0.0001\n",
        "train, val = train_test_split(df, stratify=df.label, test_size=0.1)\n",
        "len(train), len(val)\n",
        "\n",
        "large_train_dataset = ImageDataset(train, workspace / 'data' / 'train', tr_transf)\n",
        "large_test_dataset = ImageDataset(val, workspace / 'data' / 'train', data_transformer)\n",
        "batch_size = 64\n",
        "train_loader = DataLoader(large_train_dataset, batch_size=batch_size, shuffle=True)\n",
        "test_loader = DataLoader(large_test_dataset, batch_size=batch_size, shuffle=True)\n",
        "\n",
        "\n",
        "criterion = nn.CrossEntropyLoss()\n",
        "optimizer = optim.Adam(best_deep_conv_model.parameters(), lr=best_deep_learning_rate)\n",
        "\n",
        "deep_model_loss_final = train_model(best_deep_conv_model, train_loader, test_loader, criterion, optimizer, num_epochs=6)"
      ]
    },
    {
      "cell_type": "code",
      "execution_count": 23,
      "metadata": {},
      "outputs": [],
      "source": [
        "\n",
        "torch.save(best_deep_conv_model.state_dict(), 'final_model.ckpt')"
      ]
    },
    {
      "cell_type": "code",
      "execution_count": 25,
      "metadata": {},
      "outputs": [],
      "source": [
        "\n",
        "test_dataset = ImageDataset(val, workspace / 'data' / 'train', data_transformer)"
      ]
    },
    {
      "cell_type": "code",
      "execution_count": null,
      "metadata": {},
      "outputs": [],
      "source": [
        "\n",
        "\n",
        "from sklearn.metrics import confusion_matrix, accuracy_score, ConfusionMatrixDisplay\n",
        "# Test the model\n",
        "best_deep_conv_model.eval()  # eval mode (batchnorm uses moving mean/variance instead of mini-batch mean/variance)\n",
        "with torch.no_grad():\n",
        "    correct = 0\n",
        "    total = 0\n",
        "    predicted = [] \n",
        "    truth_labels = [] \n",
        "    for images, labels in test_dataset:\n",
        "        images = images.to(device)\n",
        "        labels = labels\n",
        "        outputs = best_deep_conv_model(images.unsqueeze(0))\n",
        "        _, pred = torch.max(outputs.data, 1)\n",
        "        predicted.append(pred)\n",
        "        truth_labels.append(labels)\n",
        "        total += 1\n",
        "        correct += (pred == labels).sum().item()\n",
        "          \n",
        "    print('Accurracy: {} %'.format(100 * correct / total))\n",
        "\n",
        "\n"
      ]
    },
    {
      "attachments": {},
      "cell_type": "markdown",
      "metadata": {},
      "source": [
        "Accuracy of 89.6% on test data! This could likely be improved by:\n",
        "1. Longer training time \n",
        "2. Better hyperparameter tuning \n",
        "3. More data"
      ]
    },
    {
      "cell_type": "code",
      "execution_count": 27,
      "metadata": {},
      "outputs": [
        {
          "name": "stdout",
          "output_type": "stream",
          "text": [
            "0.8961959732763713\n"
          ]
        },
        {
          "data": {
            "text/plain": [
              "<sklearn.metrics._plot.confusion_matrix.ConfusionMatrixDisplay at 0x7f674b822d10>"
            ]
          },
          "execution_count": 27,
          "metadata": {},
          "output_type": "execute_result"
        },
        {
          "data": {
            "image/png": "[encoded data removed]",
            "text/plain": [
              "<Figure size 640x480 with 2 Axes>"
            ]
          },
          "metadata": {},
          "output_type": "display_data"
        }
      ],
      "source": [
        "predicted = [pred.cpu().detach().numpy() for pred in predicted]\n",
        "\n",
        "cm = confusion_matrix(truth_labels, predicted)\n",
        "accuracy = accuracy_score(truth_labels, predicted)\n",
        "print(accuracy)\n",
        "disp = ConfusionMatrixDisplay(confusion_matrix=cm)\n",
        "disp.plot()\n"
      ]
    },
    {
      "cell_type": "markdown",
      "metadata": {
        "id": "zxGGsEouscu_"
      },
      "source": [
        "# Conclusion"
      ]
    },
    {
      "attachments": {},
      "cell_type": "markdown",
      "metadata": {
        "id": "LmRzOxEusekJ"
      },
      "source": [
        "For this project we:\n",
        "1. Created a dataloader that creates synthetic data from the training set\n",
        "2. Evaluated different architectures on a subset of training data\n",
        "3. Performed Hyperparameter optimization \n",
        "4. Achieved 89.6% accuracy on the test set for classification accuracy\n",
        "\n",
        "This project could be improved by:\n",
        "1. Better hyperparameter tuning methods \n",
        "2. Longer training time \n",
        "3. More extensive model design and iteration "
      ]
    },
    {
      "cell_type": "markdown",
      "metadata": {},
      "source": []
    }
  ],
  "metadata": {
    "accelerator": "GPU",
    "colab": {
      "gpuType": "T4",
      "provenance": []
    },
    "kaggle": {
      "accelerator": "none",
      "dataSources": [
        {
          "databundleVersionId": 862157,
          "sourceId": 11848,
          "sourceType": "competition"
        }
      ],
      "dockerImageVersionId": 30746,
      "isGpuEnabled": false,
      "isInternetEnabled": false,
      "language": "python",
      "sourceType": "notebook"
    },
    "kernelspec": {
      "display_name": "Python 3",
      "name": "python3"
    },
    "language_info": {
      "codemirror_mode": {
        "name": "ipython",
        "version": 3
      },
      "file_extension": ".py",
      "mimetype": "text/x-python",
      "name": "python",
      "nbconvert_exporter": "python",
      "pygments_lexer": "ipython3",
      "version": "3.10.14"
    }
  },
  "nbformat": 4,
  "nbformat_minor": 0
}
